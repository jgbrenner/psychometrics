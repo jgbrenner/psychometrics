{
  "nbformat": 4,
  "nbformat_minor": 0,
  "metadata": {
    "colab": {
      "provenance": [],
      "authorship_tag": "ABX9TyOt21cayBtS44bWPUwVPjg3",
      "include_colab_link": true
    },
    "kernelspec": {
      "name": "python3",
      "display_name": "Python 3"
    },
    "language_info": {
      "name": "python"
    }
  },
  "cells": [
    {
      "cell_type": "markdown",
      "metadata": {
        "id": "view-in-github",
        "colab_type": "text"
      },
      "source": [
        "<a href=\"https://colab.research.google.com/github/jgbrenner/psychometrics/blob/main/Analiza_wynikow_testuC9.ipynb\" target=\"_parent\"><img src=\"https://colab.research.google.com/assets/colab-badge.svg\" alt=\"Open In Colab\"/></a>"
      ]
    },
    {
      "cell_type": "markdown",
      "source": [
        "\n",
        "\n",
        "## **Wstęp**\n",
        "\n",
        "Ten notebook Colab analizuje odpowiedzi na kwestionariusz zaprojektowany do pomiaru **perfekcjonizmu** w trzech odrębnych wymiarach:\n",
        "\n",
        "1. **Perfekcjonizm skierowany na siebie (PSS)**:\n",
        "   - Tendencja do stawiania sobie wysokich wymagań i dążenia do perfekcji.\n",
        "2. **Perfekcjonizm skierowany na innych (PSI)**:\n",
        "   - Stawianie wysokich oczekiwań wobec innych i krytyczna ocena ich osiągnięć.\n",
        "3. **Perfekcjonizm przypisywany społecznie (PSP)**:\n",
        "   - Przekonanie, że inni oczekują od nas perfekcji.\n",
        "\n",
        "### **Cel analizy**\n",
        "Głównym celem analizy jest ocena rzetelności i trafności kwestionariusza, analiza statystyk zarówno na poziomie pozycji, jak i skal, a także eksploracja powiązań demograficznych. Kluczowe zadania obejmują:\n",
        "- Obliczenie statystyk opisowych dla pozycji testowych.\n",
        "- Ocenę spójności wewnętrznej kwestionariusza i podskal za pomocą alfa Cronbacha.\n",
        "- Analizę mocy dyskryminacyjnych poszczególnych pozycji (korelacje pozycja-całość).\n",
        "- Test zgodności pomiędzy wymiarami za pomocą tau Kendalla.\n",
        "- Analizę zależności między perfekcjonizmem a zmiennymi demograficznymi (płeć i wiek).\n",
        "\n",
        "### **Opis zbioru danych**\n",
        "- Zbiór danych obejmuje **95 poprawnych odpowiedzi** po czyszczeniu danych.\n",
        "- Kwestionariusz składa się z **18 pozycji** ocenianych na 5-punktowej skali Likerta (1 = Zdecydowanie się nie zgadzam, 5 = Zdecydowanie się zgadzam).\n",
        "- Dwie zmienne demograficzne:\n",
        "  - **Płeć**: Zakodowana jako 0 (Mężczyzna) i 1 (Kobieta).\n",
        "  - **Wiek**: Wartości liczbowe w zakresie od 16 do 59 lat.\n",
        "\n",
        "### **Narzędzia użyte w analizie**\n",
        "- **Biblioteki Python**: `pandas`, `numpy`, `scipy`, `pingouin`.\n",
        "- Wykorzystane metody statystyczne:\n",
        "  - Alfa Cronbacha do oceny rzetelności.\n",
        "  - Korelacja Pearsona do analizy mocy dyskryminacyjnych i związku z wiekiem.\n",
        "  - Tau Kendalla do oceny zgodności pomiędzy wymiarami.\n",
        "  - Test t do analizy różnic ze względu na płeć.\n",
        "\n",
        "Notebook dostarcza wglądu w właściwości psychometryczne kwestionariusza oraz identyfikuje potencjalne obszary do poprawy, takie jak pozycje o niskiej mocy dyskryminacyjnej.\n",
        "\n",
        "\\"
      ],
      "metadata": {
        "id": "AfISiQhEMlWr"
      }
    },
    {
      "cell_type": "code",
      "source": [
        "!pip install pingouin\n"
      ],
      "metadata": {
        "colab": {
          "base_uri": "https://localhost:8080/"
        },
        "collapsed": true,
        "id": "rTzkP3GejYFV",
        "outputId": "2495f809-553b-4b50-c238-ab5d2c561051"
      },
      "execution_count": null,
      "outputs": [
        {
          "output_type": "stream",
          "name": "stdout",
          "text": [
            "Requirement already satisfied: pingouin in /usr/local/lib/python3.10/dist-packages (0.5.5)\n",
            "Requirement already satisfied: matplotlib in /usr/local/lib/python3.10/dist-packages (from pingouin) (3.8.0)\n",
            "Requirement already satisfied: numpy in /usr/local/lib/python3.10/dist-packages (from pingouin) (1.26.4)\n",
            "Requirement already satisfied: pandas>=1.5 in /usr/local/lib/python3.10/dist-packages (from pingouin) (2.2.2)\n",
            "Requirement already satisfied: pandas-flavor in /usr/local/lib/python3.10/dist-packages (from pingouin) (0.6.0)\n",
            "Requirement already satisfied: scikit-learn>=1.2 in /usr/local/lib/python3.10/dist-packages (from pingouin) (1.5.2)\n",
            "Requirement already satisfied: scipy in /usr/local/lib/python3.10/dist-packages (from pingouin) (1.13.1)\n",
            "Requirement already satisfied: seaborn in /usr/local/lib/python3.10/dist-packages (from pingouin) (0.13.2)\n",
            "Requirement already satisfied: statsmodels in /usr/local/lib/python3.10/dist-packages (from pingouin) (0.14.4)\n",
            "Requirement already satisfied: tabulate in /usr/local/lib/python3.10/dist-packages (from pingouin) (0.9.0)\n",
            "Requirement already satisfied: python-dateutil>=2.8.2 in /usr/local/lib/python3.10/dist-packages (from pandas>=1.5->pingouin) (2.8.2)\n",
            "Requirement already satisfied: pytz>=2020.1 in /usr/local/lib/python3.10/dist-packages (from pandas>=1.5->pingouin) (2024.2)\n",
            "Requirement already satisfied: tzdata>=2022.7 in /usr/local/lib/python3.10/dist-packages (from pandas>=1.5->pingouin) (2024.2)\n",
            "Requirement already satisfied: joblib>=1.2.0 in /usr/local/lib/python3.10/dist-packages (from scikit-learn>=1.2->pingouin) (1.4.2)\n",
            "Requirement already satisfied: threadpoolctl>=3.1.0 in /usr/local/lib/python3.10/dist-packages (from scikit-learn>=1.2->pingouin) (3.5.0)\n",
            "Requirement already satisfied: contourpy>=1.0.1 in /usr/local/lib/python3.10/dist-packages (from matplotlib->pingouin) (1.3.1)\n",
            "Requirement already satisfied: cycler>=0.10 in /usr/local/lib/python3.10/dist-packages (from matplotlib->pingouin) (0.12.1)\n",
            "Requirement already satisfied: fonttools>=4.22.0 in /usr/local/lib/python3.10/dist-packages (from matplotlib->pingouin) (4.55.3)\n",
            "Requirement already satisfied: kiwisolver>=1.0.1 in /usr/local/lib/python3.10/dist-packages (from matplotlib->pingouin) (1.4.7)\n",
            "Requirement already satisfied: packaging>=20.0 in /usr/local/lib/python3.10/dist-packages (from matplotlib->pingouin) (24.2)\n",
            "Requirement already satisfied: pillow>=6.2.0 in /usr/local/lib/python3.10/dist-packages (from matplotlib->pingouin) (11.0.0)\n",
            "Requirement already satisfied: pyparsing>=2.3.1 in /usr/local/lib/python3.10/dist-packages (from matplotlib->pingouin) (3.2.0)\n",
            "Requirement already satisfied: xarray in /usr/local/lib/python3.10/dist-packages (from pandas-flavor->pingouin) (2024.10.0)\n",
            "Requirement already satisfied: patsy>=0.5.6 in /usr/local/lib/python3.10/dist-packages (from statsmodels->pingouin) (1.0.1)\n",
            "Requirement already satisfied: six>=1.5 in /usr/local/lib/python3.10/dist-packages (from python-dateutil>=2.8.2->pandas>=1.5->pingouin) (1.17.0)\n"
          ]
        }
      ]
    },
    {
      "cell_type": "code",
      "execution_count": null,
      "metadata": {
        "id": "l4-h6RiIisOH"
      },
      "outputs": [],
      "source": [
        "# Import libraries\n",
        "import pandas as pd\n",
        "import numpy as np\n",
        "from scipy.stats import kendalltau, pearsonr, ttest_ind\n",
        "from pingouin import cronbach_alpha\n",
        "import re\n",
        "from scipy.stats import kendalltau"
      ]
    },
    {
      "cell_type": "markdown",
      "source": [
        "# **Import pliku .csv z wynikami kwestionariusza**"
      ],
      "metadata": {
        "id": "VdknK7oYVY2U"
      }
    },
    {
      "cell_type": "code",
      "source": [
        "#Import CSV file\n",
        "from google.colab import files\n",
        "uploaded = files.upload()"
      ],
      "metadata": {
        "colab": {
          "base_uri": "https://localhost:8080/",
          "height": 69
        },
        "id": "eF34-UVL5Obb",
        "outputId": "d4a931f9-fec0-498d-ba4e-8e92677bbc55"
      },
      "execution_count": null,
      "outputs": [
        {
          "output_type": "display_data",
          "data": {
            "text/plain": [
              "<IPython.core.display.HTML object>"
            ],
            "text/html": [
              "\n",
              "     <input type=\"file\" id=\"files-92237471-3ea3-4dd9-85c8-7b5a10f5f9b5\" name=\"files[]\" multiple disabled\n",
              "        style=\"border:none\" />\n",
              "     <output id=\"result-92237471-3ea3-4dd9-85c8-7b5a10f5f9b5\">\n",
              "      Upload widget is only available when the cell has been executed in the\n",
              "      current browser session. Please rerun this cell to enable.\n",
              "      </output>\n",
              "      <script>// Copyright 2017 Google LLC\n",
              "//\n",
              "// Licensed under the Apache License, Version 2.0 (the \"License\");\n",
              "// you may not use this file except in compliance with the License.\n",
              "// You may obtain a copy of the License at\n",
              "//\n",
              "//      http://www.apache.org/licenses/LICENSE-2.0\n",
              "//\n",
              "// Unless required by applicable law or agreed to in writing, software\n",
              "// distributed under the License is distributed on an \"AS IS\" BASIS,\n",
              "// WITHOUT WARRANTIES OR CONDITIONS OF ANY KIND, either express or implied.\n",
              "// See the License for the specific language governing permissions and\n",
              "// limitations under the License.\n",
              "\n",
              "/**\n",
              " * @fileoverview Helpers for google.colab Python module.\n",
              " */\n",
              "(function(scope) {\n",
              "function span(text, styleAttributes = {}) {\n",
              "  const element = document.createElement('span');\n",
              "  element.textContent = text;\n",
              "  for (const key of Object.keys(styleAttributes)) {\n",
              "    element.style[key] = styleAttributes[key];\n",
              "  }\n",
              "  return element;\n",
              "}\n",
              "\n",
              "// Max number of bytes which will be uploaded at a time.\n",
              "const MAX_PAYLOAD_SIZE = 100 * 1024;\n",
              "\n",
              "function _uploadFiles(inputId, outputId) {\n",
              "  const steps = uploadFilesStep(inputId, outputId);\n",
              "  const outputElement = document.getElementById(outputId);\n",
              "  // Cache steps on the outputElement to make it available for the next call\n",
              "  // to uploadFilesContinue from Python.\n",
              "  outputElement.steps = steps;\n",
              "\n",
              "  return _uploadFilesContinue(outputId);\n",
              "}\n",
              "\n",
              "// This is roughly an async generator (not supported in the browser yet),\n",
              "// where there are multiple asynchronous steps and the Python side is going\n",
              "// to poll for completion of each step.\n",
              "// This uses a Promise to block the python side on completion of each step,\n",
              "// then passes the result of the previous step as the input to the next step.\n",
              "function _uploadFilesContinue(outputId) {\n",
              "  const outputElement = document.getElementById(outputId);\n",
              "  const steps = outputElement.steps;\n",
              "\n",
              "  const next = steps.next(outputElement.lastPromiseValue);\n",
              "  return Promise.resolve(next.value.promise).then((value) => {\n",
              "    // Cache the last promise value to make it available to the next\n",
              "    // step of the generator.\n",
              "    outputElement.lastPromiseValue = value;\n",
              "    return next.value.response;\n",
              "  });\n",
              "}\n",
              "\n",
              "/**\n",
              " * Generator function which is called between each async step of the upload\n",
              " * process.\n",
              " * @param {string} inputId Element ID of the input file picker element.\n",
              " * @param {string} outputId Element ID of the output display.\n",
              " * @return {!Iterable<!Object>} Iterable of next steps.\n",
              " */\n",
              "function* uploadFilesStep(inputId, outputId) {\n",
              "  const inputElement = document.getElementById(inputId);\n",
              "  inputElement.disabled = false;\n",
              "\n",
              "  const outputElement = document.getElementById(outputId);\n",
              "  outputElement.innerHTML = '';\n",
              "\n",
              "  const pickedPromise = new Promise((resolve) => {\n",
              "    inputElement.addEventListener('change', (e) => {\n",
              "      resolve(e.target.files);\n",
              "    });\n",
              "  });\n",
              "\n",
              "  const cancel = document.createElement('button');\n",
              "  inputElement.parentElement.appendChild(cancel);\n",
              "  cancel.textContent = 'Cancel upload';\n",
              "  const cancelPromise = new Promise((resolve) => {\n",
              "    cancel.onclick = () => {\n",
              "      resolve(null);\n",
              "    };\n",
              "  });\n",
              "\n",
              "  // Wait for the user to pick the files.\n",
              "  const files = yield {\n",
              "    promise: Promise.race([pickedPromise, cancelPromise]),\n",
              "    response: {\n",
              "      action: 'starting',\n",
              "    }\n",
              "  };\n",
              "\n",
              "  cancel.remove();\n",
              "\n",
              "  // Disable the input element since further picks are not allowed.\n",
              "  inputElement.disabled = true;\n",
              "\n",
              "  if (!files) {\n",
              "    return {\n",
              "      response: {\n",
              "        action: 'complete',\n",
              "      }\n",
              "    };\n",
              "  }\n",
              "\n",
              "  for (const file of files) {\n",
              "    const li = document.createElement('li');\n",
              "    li.append(span(file.name, {fontWeight: 'bold'}));\n",
              "    li.append(span(\n",
              "        `(${file.type || 'n/a'}) - ${file.size} bytes, ` +\n",
              "        `last modified: ${\n",
              "            file.lastModifiedDate ? file.lastModifiedDate.toLocaleDateString() :\n",
              "                                    'n/a'} - `));\n",
              "    const percent = span('0% done');\n",
              "    li.appendChild(percent);\n",
              "\n",
              "    outputElement.appendChild(li);\n",
              "\n",
              "    const fileDataPromise = new Promise((resolve) => {\n",
              "      const reader = new FileReader();\n",
              "      reader.onload = (e) => {\n",
              "        resolve(e.target.result);\n",
              "      };\n",
              "      reader.readAsArrayBuffer(file);\n",
              "    });\n",
              "    // Wait for the data to be ready.\n",
              "    let fileData = yield {\n",
              "      promise: fileDataPromise,\n",
              "      response: {\n",
              "        action: 'continue',\n",
              "      }\n",
              "    };\n",
              "\n",
              "    // Use a chunked sending to avoid message size limits. See b/62115660.\n",
              "    let position = 0;\n",
              "    do {\n",
              "      const length = Math.min(fileData.byteLength - position, MAX_PAYLOAD_SIZE);\n",
              "      const chunk = new Uint8Array(fileData, position, length);\n",
              "      position += length;\n",
              "\n",
              "      const base64 = btoa(String.fromCharCode.apply(null, chunk));\n",
              "      yield {\n",
              "        response: {\n",
              "          action: 'append',\n",
              "          file: file.name,\n",
              "          data: base64,\n",
              "        },\n",
              "      };\n",
              "\n",
              "      let percentDone = fileData.byteLength === 0 ?\n",
              "          100 :\n",
              "          Math.round((position / fileData.byteLength) * 100);\n",
              "      percent.textContent = `${percentDone}% done`;\n",
              "\n",
              "    } while (position < fileData.byteLength);\n",
              "  }\n",
              "\n",
              "  // All done.\n",
              "  yield {\n",
              "    response: {\n",
              "      action: 'complete',\n",
              "    }\n",
              "  };\n",
              "}\n",
              "\n",
              "scope.google = scope.google || {};\n",
              "scope.google.colab = scope.google.colab || {};\n",
              "scope.google.colab._files = {\n",
              "  _uploadFiles,\n",
              "  _uploadFilesContinue,\n",
              "};\n",
              "})(self);\n",
              "</script> "
            ]
          },
          "metadata": {}
        },
        {
          "output_type": "stream",
          "name": "stdout",
          "text": [
            "Saving Kwestionariusz Perfekcjonizmu C9.csv to Kwestionariusz Perfekcjonizmu C9.csv\n"
          ]
        }
      ]
    },
    {
      "cell_type": "code",
      "source": [
        "# Load the CSV file\n",
        "data = pd.read_csv(\"Kwestionariusz Perfekcjonizmu C9.csv\")\n",
        "\n",
        "# Print the first few rows to inspect the data\n",
        "print(\"Preview of the dataset:\")\n",
        "print(data.head())\n",
        "\n",
        "# Print column names for verification\n",
        "print(\"\\nColumn names in the dataset:\")\n",
        "print(data.columns.tolist())\n"
      ],
      "metadata": {
        "colab": {
          "base_uri": "https://localhost:8080/"
        },
        "collapsed": true,
        "id": "fMZFldyS8fEV",
        "outputId": "9f82f857-c034-4a18-93f6-94333cb41379"
      },
      "execution_count": null,
      "outputs": [
        {
          "output_type": "stream",
          "name": "stdout",
          "text": [
            "Preview of the dataset:\n",
            "                     Timestamp Zaznacz swoją płeć biologiczną:  \\\n",
            "0  2024/11/24 4:52:32 PM GMT+1                             NaN   \n",
            "1  2024/11/24 4:56:25 PM GMT+1                             NaN   \n",
            "2  2024/11/24 4:57:17 PM GMT+1                             NaN   \n",
            "3  2024/11/24 5:13:05 PM GMT+1                             NaN   \n",
            "4  2024/12/02 9:24:36 PM GMT+1                             NaN   \n",
            "\n",
            "   Podaj swój wiek  1. Czuję, że muszę być doskonały we wszystkim, co robię.  \\\n",
            "0              NaN                                                  5          \n",
            "1              NaN                                                  5          \n",
            "2              NaN                                                  5          \n",
            "3              NaN                                                  4          \n",
            "4              NaN                                                  3          \n",
            "\n",
            "   2. Gdy nie osiągam swoich wysokich standardów, czuję się zawiedziony/a.  \\\n",
            "0                                                  5                         \n",
            "1                                                  5                         \n",
            "2                                                  5                         \n",
            "3                                                  4                         \n",
            "4                                                  1                         \n",
            "\n",
            "   3. Nawet drobne błędy wywołują u mnie silny dyskomfort.  \\\n",
            "0                                                  5         \n",
            "1                                                  5         \n",
            "2                                                  4         \n",
            "3                                                  3         \n",
            "4                                                  2         \n",
            "\n",
            "   4. Czuję, że muszę być lepszy od innych, aby móc się czuć spełniony.  \\\n",
            "0                                                  5                      \n",
            "1                                                  4                      \n",
            "2                                                  5                      \n",
            "3                                                  3                      \n",
            "4                                                  3                      \n",
            "\n",
            "   5. Porównuję się z innymi, aby ocenić swoje osiągnięcia.  \\\n",
            "0                                                  5          \n",
            "1                                                  5          \n",
            "2                                                  5          \n",
            "3                                                  4          \n",
            "4                                                  4          \n",
            "\n",
            "   6. Uważam, że nie mogę sobie pozwolić na porażkę.  \\\n",
            "0                                                  5   \n",
            "1                                                  5   \n",
            "2                                                  5   \n",
            "3                                                  5   \n",
            "4                                                  2   \n",
            "\n",
            "   7. Oczekuję, że inni będą wykonywać swoje zadania perfekcyjnie.  ...  \\\n",
            "0                                                  5                ...   \n",
            "1                                                  5                ...   \n",
            "2                                                  5                ...   \n",
            "3                                                  5                ...   \n",
            "4                                                  2                ...   \n",
            "\n",
            "   9. Czuję, że inni mogą zrobić coś lepiej niż to zrobili.  \\\n",
            "0                                                  5          \n",
            "1                                                  4          \n",
            "2                                                  5          \n",
            "3                                                  4          \n",
            "4                                                  4          \n",
            "\n",
            "   10. Nie toleruję błędów popełnianych przez innych.  \\\n",
            "0                                                  5    \n",
            "1                                                  5    \n",
            "2                                                  5    \n",
            "3                                                  3    \n",
            "4                                                  3    \n",
            "\n",
            "   11. Czuję się sfrustrowany, gdy inni nie spełniają moich oczekiwań.  \\\n",
            "0                                                  5                     \n",
            "1                                                  5                     \n",
            "2                                                  4                     \n",
            "3                                                  4                     \n",
            "4                                                  5                     \n",
            "\n",
            "   12. Wyrażam swoje niezadowolenie z pracy innych.  \\\n",
            "0                                                 5   \n",
            "1                                                 4   \n",
            "2                                                 5   \n",
            "3                                                 4   \n",
            "4                                                 4   \n",
            "\n",
            "   13. Czuję, że inni oczekują ode mnie doskonałości.  \\\n",
            "0                                                  5    \n",
            "1                                                  5    \n",
            "2                                                  5    \n",
            "3                                                  4    \n",
            "4                                                  2    \n",
            "\n",
            "   14. Mam wrażenie, że muszę spełniać wysokie oczekiwania innych.  \\\n",
            "0                                                  5                 \n",
            "1                                                  5                 \n",
            "2                                                  5                 \n",
            "3                                                  3                 \n",
            "4                                                  2                 \n",
            "\n",
            "   15. Czuję presję, aby być idealnym w oczach innych.  \\\n",
            "0                                                  5     \n",
            "1                                                  5     \n",
            "2                                                  5     \n",
            "3                                                  3     \n",
            "4                                                  4     \n",
            "\n",
            "   16. Obawiam się, że zawiodę oczekiwania innych.  \\\n",
            "0                                                5   \n",
            "1                                                5   \n",
            "2                                                5   \n",
            "3                                                4   \n",
            "4                                                4   \n",
            "\n",
            "   17. Czuję, że muszę udowodnić swoją wartość innym.  \\\n",
            "0                                                  5    \n",
            "1                                                  5    \n",
            "2                                                  4    \n",
            "3                                                  3    \n",
            "4                                                  5    \n",
            "\n",
            "   18. Myślę o tym, co inni sądzą o moich osiągnięciach.  \n",
            "0                                                  5      \n",
            "1                                                  5      \n",
            "2                                                  4      \n",
            "3                                                  4      \n",
            "4                                                  5      \n",
            "\n",
            "[5 rows x 21 columns]\n",
            "\n",
            "Column names in the dataset:\n",
            "['Timestamp', 'Zaznacz swoją płeć biologiczną:', 'Podaj swój wiek', '1. Czuję, że muszę być doskonały we wszystkim, co robię.', '2. Gdy nie osiągam swoich wysokich standardów, czuję się zawiedziony/a.', '3. Nawet drobne błędy wywołują u mnie silny dyskomfort.', '4. Czuję, że muszę być lepszy od innych, aby móc się czuć spełniony.', '5. Porównuję się z innymi, aby ocenić swoje osiągnięcia.', '6. Uważam, że nie mogę sobie pozwolić na porażkę.', '7. Oczekuję, że inni będą wykonywać swoje zadania perfekcyjnie.', '8. Krytycznie oceniam osiągnięcia innych ludzi.', '9. Czuję, że inni mogą zrobić coś lepiej niż to zrobili.', '10. Nie toleruję błędów popełnianych przez innych.', '11. Czuję się sfrustrowany, gdy inni nie spełniają moich oczekiwań.', '12. Wyrażam swoje niezadowolenie z pracy innych.', '13. Czuję, że inni oczekują ode mnie doskonałości.', '14. Mam wrażenie, że muszę spełniać wysokie oczekiwania innych.', '15. Czuję presję, aby być idealnym w oczach innych.', '16. Obawiam się, że zawiodę oczekiwania innych.', '17. Czuję, że muszę udowodnić swoją wartość innym.', '18. Myślę o tym, co inni sądzą o moich osiągnięciach.']\n"
          ]
        }
      ]
    },
    {
      "cell_type": "code",
      "source": [
        "\n",
        "\n",
        "# Clean column names\n",
        "data.columns = [re.sub(r'\\s+', ' ', col).strip() for col in data.columns]\n",
        "\n",
        "# Print cleaned column names for verification\n",
        "print(\"\\nCleaned column names:\")\n",
        "print(data.columns.tolist())\n"
      ],
      "metadata": {
        "colab": {
          "base_uri": "https://localhost:8080/"
        },
        "id": "pK4is79O8lnf",
        "outputId": "828065ec-bd3a-40f5-d5f9-b179430679a3"
      },
      "execution_count": null,
      "outputs": [
        {
          "output_type": "stream",
          "name": "stdout",
          "text": [
            "\n",
            "Cleaned column names:\n",
            "['Timestamp', 'Zaznacz swoją płeć biologiczną:', 'Podaj swój wiek', '1. Czuję, że muszę być doskonały we wszystkim, co robię.', '2. Gdy nie osiągam swoich wysokich standardów, czuję się zawiedziony/a.', '3. Nawet drobne błędy wywołują u mnie silny dyskomfort.', '4. Czuję, że muszę być lepszy od innych, aby móc się czuć spełniony.', '5. Porównuję się z innymi, aby ocenić swoje osiągnięcia.', '6. Uważam, że nie mogę sobie pozwolić na porażkę.', '7. Oczekuję, że inni będą wykonywać swoje zadania perfekcyjnie.', '8. Krytycznie oceniam osiągnięcia innych ludzi.', '9. Czuję, że inni mogą zrobić coś lepiej niż to zrobili.', '10. Nie toleruję błędów popełnianych przez innych.', '11. Czuję się sfrustrowany, gdy inni nie spełniają moich oczekiwań.', '12. Wyrażam swoje niezadowolenie z pracy innych.', '13. Czuję, że inni oczekują ode mnie doskonałości.', '14. Mam wrażenie, że muszę spełniać wysokie oczekiwania innych.', '15. Czuję presję, aby być idealnym w oczach innych.', '16. Obawiam się, że zawiodę oczekiwania innych.', '17. Czuję, że muszę udowodnić swoją wartość innym.', '18. Myślę o tym, co inni sądzą o moich osiągnięciach.']\n"
          ]
        }
      ]
    },
    {
      "cell_type": "code",
      "source": [
        "# Define item columns explicitly\n",
        "item_columns = [\n",
        "    '1. Czuję, że muszę być doskonały we wszystkim, co robię.',\n",
        "    '2. Gdy nie osiągam swoich wysokich standardów, czuję się zawiedziony/a.',\n",
        "    '3. Nawet drobne błędy wywołują u mnie silny dyskomfort.',\n",
        "    '4. Czuję, że muszę być lepszy od innych, aby móc się czuć spełniony.',\n",
        "    '5. Porównuję się z innymi, aby ocenić swoje osiągnięcia.',\n",
        "    '6. Uważam, że nie mogę sobie pozwolić na porażkę.',\n",
        "    '7. Oczekuję, że inni będą wykonywać swoje zadania perfekcyjnie.',\n",
        "    '8. Krytycznie oceniam osiągnięcia innych ludzi.',\n",
        "    '9. Czuję, że inni mogą zrobić coś lepiej niż to zrobili.',\n",
        "    '10. Nie toleruję błędów popełnianych przez innych.',\n",
        "    '11. Czuję się sfrustrowany, gdy inni nie spełniają moich oczekiwań.',\n",
        "    '12. Wyrażam swoje niezadowolenie z pracy innych.',\n",
        "    '13. Czuję, że inni oczekują ode mnie doskonałości.',\n",
        "    '14. Mam wrażenie, że muszę spełniać wysokie oczekiwania innych.',\n",
        "    '15. Czuję presję, aby być idealnym w oczach innych.',\n",
        "    '16. Obawiam się, że zawiodę oczekiwania innych.',\n",
        "    '17. Czuję, że muszę udowodnić swoją wartość innym.',\n",
        "    '18. Myślę o tym, co inni sądzą o moich osiągnięciach.'\n",
        "]\n",
        "\n",
        "# Compute descriptive statistics for test items\n",
        "item_stats = data[item_columns].describe().T\n",
        "print(\"\\nDescriptive statistics for test items:\")\n",
        "print(item_stats)\n"
      ],
      "metadata": {
        "colab": {
          "base_uri": "https://localhost:8080/"
        },
        "collapsed": true,
        "id": "-5KwVnS_8zMr",
        "outputId": "735a6ab6-17cf-44a7-e43b-bb35cd96715e"
      },
      "execution_count": null,
      "outputs": [
        {
          "output_type": "stream",
          "name": "stdout",
          "text": [
            "\n",
            "Descriptive statistics for test items:\n",
            "                                                    count      mean       std  \\\n",
            "1. Czuję, że muszę być doskonały we wszystkim, ...   95.0  3.442105  1.277596   \n",
            "2. Gdy nie osiągam swoich wysokich standardów, ...   95.0  3.978947  0.978263   \n",
            "3. Nawet drobne błędy wywołują u mnie silny dys...   95.0  3.715789  1.251919   \n",
            "4. Czuję, że muszę być lepszy od innych, aby mó...   95.0  3.210526  1.328050   \n",
            "5. Porównuję się z innymi, aby ocenić swoje osi...   95.0  3.610526  1.282407   \n",
            "6. Uważam, że nie mogę sobie pozwolić na porażkę.    95.0  3.178947  1.254600   \n",
            "7. Oczekuję, że inni będą wykonywać swoje zadan...   95.0  2.852632  1.320609   \n",
            "8. Krytycznie oceniam osiągnięcia innych ludzi.      95.0  2.336842  1.199384   \n",
            "9. Czuję, że inni mogą zrobić coś lepiej niż to...   95.0  3.073684  1.256829   \n",
            "10. Nie toleruję błędów popełnianych przez innych.   95.0  2.052632  1.123903   \n",
            "11. Czuję się sfrustrowany, gdy inni nie spełni...   95.0  3.147368  1.271357   \n",
            "12. Wyrażam swoje niezadowolenie z pracy innych.     95.0  2.578947  1.106835   \n",
            "13. Czuję, że inni oczekują ode mnie doskonałości.   95.0  3.252632  1.211368   \n",
            "14. Mam wrażenie, że muszę spełniać wysokie ocz...   95.0  3.263158  1.314490   \n",
            "15. Czuję presję, aby być idealnym w oczach inn...   95.0  3.484211  1.303540   \n",
            "16. Obawiam się, że zawiodę oczekiwania innych.      95.0  3.463158  1.327376   \n",
            "17. Czuję, że muszę udowodnić swoją wartość innym.   95.0  3.442105  1.396925   \n",
            "18. Myślę o tym, co inni sądzą o moich osiągnię...   95.0  3.631579  1.353110   \n",
            "\n",
            "                                                    min  25%  50%  75%  max  \n",
            "1. Czuję, że muszę być doskonały we wszystkim, ...  1.0  2.0  4.0  4.0  5.0  \n",
            "2. Gdy nie osiągam swoich wysokich standardów, ...  1.0  4.0  4.0  5.0  5.0  \n",
            "3. Nawet drobne błędy wywołują u mnie silny dys...  1.0  3.0  4.0  5.0  5.0  \n",
            "4. Czuję, że muszę być lepszy od innych, aby mó...  1.0  2.0  3.0  4.0  5.0  \n",
            "5. Porównuję się z innymi, aby ocenić swoje osi...  1.0  3.0  4.0  5.0  5.0  \n",
            "6. Uważam, że nie mogę sobie pozwolić na porażkę.   1.0  2.0  3.0  4.0  5.0  \n",
            "7. Oczekuję, że inni będą wykonywać swoje zadan...  1.0  2.0  3.0  4.0  5.0  \n",
            "8. Krytycznie oceniam osiągnięcia innych ludzi.     1.0  1.0  2.0  3.0  5.0  \n",
            "9. Czuję, że inni mogą zrobić coś lepiej niż to...  1.0  2.0  3.0  4.0  5.0  \n",
            "10. Nie toleruję błędów popełnianych przez innych.  1.0  1.0  2.0  3.0  5.0  \n",
            "11. Czuję się sfrustrowany, gdy inni nie spełni...  1.0  2.0  3.0  4.0  5.0  \n",
            "12. Wyrażam swoje niezadowolenie z pracy innych.    1.0  2.0  2.0  3.0  5.0  \n",
            "13. Czuję, że inni oczekują ode mnie doskonałości.  1.0  2.0  3.0  4.0  5.0  \n",
            "14. Mam wrażenie, że muszę spełniać wysokie ocz...  1.0  2.0  4.0  4.0  5.0  \n",
            "15. Czuję presję, aby być idealnym w oczach inn...  1.0  2.0  4.0  5.0  5.0  \n",
            "16. Obawiam się, że zawiodę oczekiwania innych.     1.0  2.5  4.0  4.0  5.0  \n",
            "17. Czuję, że muszę udowodnić swoją wartość innym.  1.0  2.0  4.0  5.0  5.0  \n",
            "18. Myślę o tym, co inni sądzą o moich osiągnię...  1.0  3.0  4.0  5.0  5.0  \n"
          ]
        }
      ]
    },
    {
      "cell_type": "code",
      "source": [
        "# Print all column names in the DataFrame to verify\n",
        "print(\"Column names in the dataset:\")\n",
        "for col in data.columns:\n",
        "    print(repr(col))\n",
        "\n"
      ],
      "metadata": {
        "colab": {
          "base_uri": "https://localhost:8080/"
        },
        "collapsed": true,
        "id": "0_Pj5Z9gD7qn",
        "outputId": "37be9765-d672-4221-e7a5-614734f1d950"
      },
      "execution_count": null,
      "outputs": [
        {
          "output_type": "stream",
          "name": "stdout",
          "text": [
            "Column names in the dataset:\n",
            "'1. Czuję, że muszę być doskonały we wszystkim, co robię.'\n",
            "'2. Gdy nie osiągam swoich wysokich standardów, czuję się zawiedziony/a.'\n",
            "'3. Nawet drobne błędy wywołują u mnie silny dyskomfort.'\n",
            "'4. Czuję, że muszę być lepszy od innych, aby móc się czuć spełniony.'\n",
            "'5. Porównuję się z innymi, aby ocenić swoje osiągnięcia.'\n",
            "'6. Uważam, że nie mogę sobie pozwolić na porażkę.'\n",
            "'7. Oczekuję, że inni będą wykonywać swoje zadania perfekcyjnie.'\n",
            "'8. Krytycznie oceniam osiągnięcia innych ludzi.'\n",
            "'9. Czuję, że inni mogą zrobić coś lepiej niż to zrobili.'\n",
            "'10. Nie toleruję błędów popełnianych przez innych.'\n",
            "'11. Czuję się sfrustrowany, gdy inni nie spełniają moich oczekiwań.'\n",
            "'12. Wyrażam swoje niezadowolenie z pracy innych.'\n",
            "'13. Czuję, że inni oczekują ode mnie doskonałości.'\n",
            "'14. Mam wrażenie, że muszę spełniać wysokie oczekiwania innych.'\n",
            "'15. Czuję presję, aby być idealnym w oczach innych.'\n",
            "'16. Obawiam się, że zawiodę oczekiwania innych.'\n",
            "'17. Czuję, że muszę udowodnić swoją wartość innym.'\n",
            "'18. Myślę o tym, co inni sądzą o moich osiągnięciach.'\n",
            "'Zaznacz swoją płeć biologiczną:'\n",
            "'Podaj swój wiek'\n"
          ]
        }
      ]
    },
    {
      "cell_type": "code",
      "source": [
        "# Dynamically match item columns using partial names\n",
        "item_columns = [col for col in data.columns if col.startswith(tuple(str(i) for i in range(1, 19)))]\n",
        "\n",
        "# Print the matched item columns\n",
        "print(\"\\nMatched item columns:\")\n",
        "print(item_columns)\n"
      ],
      "metadata": {
        "colab": {
          "base_uri": "https://localhost:8080/"
        },
        "id": "R81uTtUdEeH9",
        "outputId": "9acc9f75-5342-433e-bbcb-f7b234fedcf5"
      },
      "execution_count": null,
      "outputs": [
        {
          "output_type": "stream",
          "name": "stdout",
          "text": [
            "\n",
            "Matched item columns:\n",
            "['1. Czuję, że muszę być doskonały we wszystkim, co robię.', '2. Gdy nie osiągam swoich wysokich standardów, czuję się zawiedziony/a.', '3. Nawet drobne błędy wywołują u mnie silny dyskomfort.', '4. Czuję, że muszę być lepszy od innych, aby móc się czuć spełniony.', '5. Porównuję się z innymi, aby ocenić swoje osiągnięcia.', '6. Uważam, że nie mogę sobie pozwolić na porażkę.', '7. Oczekuję, że inni będą wykonywać swoje zadania perfekcyjnie.', '8. Krytycznie oceniam osiągnięcia innych ludzi.', '9. Czuję, że inni mogą zrobić coś lepiej niż to zrobili.', '10. Nie toleruję błędów popełnianych przez innych.', '11. Czuję się sfrustrowany, gdy inni nie spełniają moich oczekiwań.', '12. Wyrażam swoje niezadowolenie z pracy innych.', '13. Czuję, że inni oczekują ode mnie doskonałości.', '14. Mam wrażenie, że muszę spełniać wysokie oczekiwania innych.', '15. Czuję presję, aby być idealnym w oczach innych.', '16. Obawiam się, że zawiodę oczekiwania innych.', '17. Czuję, że muszę udowodnić swoją wartość innym.', '18. Myślę o tym, co inni sądzą o moich osiągnięciach.']\n"
          ]
        }
      ]
    },
    {
      "cell_type": "markdown",
      "source": [
        "# **Obliczanie alfy Crohnbach'a**"
      ],
      "metadata": {
        "id": "WU2K4Bm4FHHa"
      }
    },
    {
      "cell_type": "code",
      "source": [
        "# Define item groups for dimensions\n",
        "PSS_items = item_columns[:6]  # Items 1–6\n",
        "PSI_items = item_columns[6:12]  # Items 7–12\n",
        "PSP_items = item_columns[12:18]  # Items 13–18\n",
        "\n",
        "# Calculate Cronbach's alpha for the full scale\n",
        "alpha_full, _ = cronbach_alpha(data[item_columns])\n",
        "print(\"\\nCronbach's Alpha for the Full Scale:\")\n",
        "print(f\"Alpha = {alpha_full:.3f}\")\n",
        "\n",
        "# Calculate Cronbach's alpha for each dimension\n",
        "alpha_PSS, _ = cronbach_alpha(data[PSS_items])\n",
        "alpha_PSI, _ = cronbach_alpha(data[PSI_items])\n",
        "alpha_PSP, _ = cronbach_alpha(data[PSP_items])\n",
        "\n",
        "print(\"\\nCronbach's Alpha for Subscales:\")\n",
        "print(f\"PSS (Items 1–6): Alpha = {alpha_PSS:.3f}\")\n",
        "print(f\"PSI (Items 7–12): Alpha = {alpha_PSI:.3f}\")\n",
        "print(f\"PSP (Items 13–18): Alpha = {alpha_PSP:.3f}\")\n"
      ],
      "metadata": {
        "colab": {
          "base_uri": "https://localhost:8080/"
        },
        "id": "DVD_WVhHEp2k",
        "outputId": "319c1ba9-ccdb-4deb-d832-862ae1751a1e"
      },
      "execution_count": null,
      "outputs": [
        {
          "output_type": "stream",
          "name": "stdout",
          "text": [
            "\n",
            "Cronbach's Alpha for the Full Scale:\n",
            "Alpha = 0.887\n",
            "\n",
            "Cronbach's Alpha for Subscales:\n",
            "PSS (Items 1–6): Alpha = 0.827\n",
            "PSI (Items 7–12): Alpha = 0.838\n",
            "PSP (Items 13–18): Alpha = 0.883\n"
          ]
        }
      ]
    },
    {
      "cell_type": "markdown",
      "source": [
        "# **Obliczenie Mocy Dyskryminacyjnej**"
      ],
      "metadata": {
        "id": "ijPwwfo0FYFt"
      }
    },
    {
      "cell_type": "code",
      "source": [
        "# Compute total score across all items\n",
        "data['Total_Score'] = data[item_columns].sum(axis=1)\n",
        "\n",
        "# Compute item-total correlations\n",
        "discrimination_power = {\n",
        "    item: pearsonr(data[item], data['Total_Score'])[0] for item in item_columns\n",
        "}\n",
        "\n",
        "# Print item-total correlations\n",
        "print(\"\\nDiscrimination power (item-total correlation):\")\n",
        "for item, correlation in discrimination_power.items():\n",
        "    print(f\"{item}: {correlation:.3f}\")\n"
      ],
      "metadata": {
        "colab": {
          "base_uri": "https://localhost:8080/"
        },
        "id": "8-8wZPo1Fat_",
        "outputId": "476c4506-fc5f-44bf-d30c-83390421bd73"
      },
      "execution_count": null,
      "outputs": [
        {
          "output_type": "stream",
          "name": "stdout",
          "text": [
            "\n",
            "Discrimination power (item-total correlation):\n",
            "1. Czuję, że muszę być doskonały we wszystkim, co robię.: 0.626\n",
            "2. Gdy nie osiągam swoich wysokich standardów, czuję się zawiedziony/a.: 0.565\n",
            "3. Nawet drobne błędy wywołują u mnie silny dyskomfort.: 0.626\n",
            "4. Czuję, że muszę być lepszy od innych, aby móc się czuć spełniony.: 0.636\n",
            "5. Porównuję się z innymi, aby ocenić swoje osiągnięcia.: 0.585\n",
            "6. Uważam, że nie mogę sobie pozwolić na porażkę.: 0.626\n",
            "7. Oczekuję, że inni będą wykonywać swoje zadania perfekcyjnie.: 0.591\n",
            "8. Krytycznie oceniam osiągnięcia innych ludzi.: 0.602\n",
            "9. Czuję, że inni mogą zrobić coś lepiej niż to zrobili.: 0.502\n",
            "10. Nie toleruję błędów popełnianych przez innych.: 0.508\n",
            "11. Czuję się sfrustrowany, gdy inni nie spełniają moich oczekiwań.: 0.538\n",
            "12. Wyrażam swoje niezadowolenie z pracy innych.: 0.273\n",
            "13. Czuję, że inni oczekują ode mnie doskonałości.: 0.504\n",
            "14. Mam wrażenie, że muszę spełniać wysokie oczekiwania innych.: 0.636\n",
            "15. Czuję presję, aby być idealnym w oczach innych.: 0.664\n",
            "16. Obawiam się, że zawiodę oczekiwania innych.: 0.572\n",
            "17. Czuję, że muszę udowodnić swoją wartość innym.: 0.762\n",
            "18. Myślę o tym, co inni sądzą o moich osiągnięciach.: 0.677\n"
          ]
        }
      ]
    },
    {
      "cell_type": "markdown",
      "source": [
        "# **Obliczenie Korelacji Tau Kendalla:**\n",
        "\n",
        "\n"
      ],
      "metadata": {
        "id": "eTsxgSnXGgwU"
      }
    },
    {
      "cell_type": "code",
      "source": [
        "\n",
        "\n",
        "# Compute pairwise Kendall's tau correlations\n",
        "tau_pss_psi, _ = kendalltau(data['PSS_Score'], data['PSI_Score'])\n",
        "tau_pss_psp, _ = kendalltau(data['PSS_Score'], data['PSP_Score'])\n",
        "tau_psi_psp, _ = kendalltau(data['PSI_Score'], data['PSP_Score'])\n",
        "\n",
        "# Print results\n",
        "print(\"\\nKendall's Tau Correlations (Pairwise):\")\n",
        "print(f\"PSS and PSI: tau = {tau_pss_psi:.3f}\")\n",
        "print(f\"PSS and PSP: tau = {tau_pss_psp:.3f}\")\n",
        "print(f\"PSI and PSP: tau = {tau_psi_psp:.3f}\")"
      ],
      "metadata": {
        "colab": {
          "base_uri": "https://localhost:8080/"
        },
        "id": "txKtjQy2FzGx",
        "outputId": "4dff73b9-326f-474f-9014-7c41757bf80d"
      },
      "execution_count": null,
      "outputs": [
        {
          "output_type": "stream",
          "name": "stdout",
          "text": [
            "\n",
            "Kendall's Tau Correlations (Pairwise):\n",
            "PSS and PSI: tau = 0.278\n",
            "PSS and PSP: tau = 0.463\n",
            "PSI and PSP: tau = 0.218\n"
          ]
        }
      ]
    },
    {
      "cell_type": "code",
      "source": [
        "# Map gender to binary values\n",
        "gender_map = {'Mężczyzna': 0, 'Kobieta': 1}  # 0 for Male, 1 for Female\n",
        "data['Gender'] = data['Zaznacz swoją płeć biologiczną:'].map(gender_map)\n",
        "\n",
        "# Check if there are any unmapped values\n",
        "print(\"\\nUnique values in Gender column:\")\n",
        "print(data['Gender'].unique())\n"
      ],
      "metadata": {
        "colab": {
          "base_uri": "https://localhost:8080/"
        },
        "id": "M133m89VG7zK",
        "outputId": "159b1c19-17da-4795-b156-3ae2c579bec5"
      },
      "execution_count": null,
      "outputs": [
        {
          "output_type": "stream",
          "name": "stdout",
          "text": [
            "\n",
            "Unique values in Gender column:\n",
            "[0 1]\n"
          ]
        }
      ]
    },
    {
      "cell_type": "markdown",
      "source": [
        "# **Rozklac plci**"
      ],
      "metadata": {
        "id": "jSpmYdsNUwTI"
      }
    },
    {
      "cell_type": "code",
      "source": [
        "# Calculate gender distribution\n",
        "gender_counts = data['Gender'].value_counts()\n",
        "gender_percentages = data['Gender'].value_counts(normalize=True) * 100\n",
        "\n",
        "# Print gender distribution\n",
        "print(\"\\nGender Distribution:\")\n",
        "print(gender_counts)\n",
        "print(\"\\nGender Percentages:\")\n",
        "print(gender_percentages)\n",
        "\n",
        "# Optional: Plot gender distribution\n",
        "import matplotlib.pyplot as plt\n",
        "\n",
        "plt.figure(figsize=(6, 4))\n",
        "gender_counts.plot(kind='bar', color=['blue', 'pink'], alpha=0.7)\n",
        "plt.title(\"Gender Distribution\")\n",
        "plt.xticks(ticks=[0, 1], labels=['Male', 'Female'], rotation=0)\n",
        "plt.ylabel(\"Number of Participants\")\n",
        "plt.xlabel(\"Gender\")\n",
        "plt.show()\n"
      ],
      "metadata": {
        "colab": {
          "base_uri": "https://localhost:8080/",
          "height": 614
        },
        "id": "YPFnvnPBURds",
        "outputId": "27e2ce08-8034-4cb6-e629-0f9bfe31db10"
      },
      "execution_count": null,
      "outputs": [
        {
          "output_type": "stream",
          "name": "stdout",
          "text": [
            "\n",
            "Gender Distribution:\n",
            "Gender\n",
            "1    80\n",
            "0    15\n",
            "Name: count, dtype: int64\n",
            "\n",
            "Gender Percentages:\n",
            "Gender\n",
            "1    84.210526\n",
            "0    15.789474\n",
            "Name: proportion, dtype: float64\n"
          ]
        },
        {
          "output_type": "display_data",
          "data": {
            "text/plain": [
              "<Figure size 600x400 with 1 Axes>"
            ],
            "image/png": "[encoded data removed]"
          },
          "metadata": {}
        }
      ]
    },
    {
      "cell_type": "code",
      "source": [
        "# Rename the age column for consistency\n",
        "data['Age'] = data['Podaj swój wiek']\n",
        "\n",
        "# Check for unique values in the Age column\n",
        "print(\"\\nUnique values in Age column:\")\n",
        "print(data['Age'].unique())\n"
      ],
      "metadata": {
        "colab": {
          "base_uri": "https://localhost:8080/"
        },
        "id": "eVSMiTHTHYPa",
        "outputId": "4697b07c-cf5d-4102-ac0c-7e58ae06c660"
      },
      "execution_count": null,
      "outputs": [
        {
          "output_type": "stream",
          "name": "stdout",
          "text": [
            "\n",
            "Unique values in Age column:\n",
            "[24. 32. 39. 36. 59. 20. 21. 19. 23. 17. 22. 18. 34. 16. 27. 28. 42. 43.\n",
            " 38. 55. 40. 26.]\n"
          ]
        }
      ]
    },
    {
      "cell_type": "markdown",
      "source": [
        "# **Rozklad wieku**"
      ],
      "metadata": {
        "id": "VBqmQrSzU0vP"
      }
    },
    {
      "cell_type": "code",
      "source": [
        "# Calculate age distribution\n",
        "age_min = data['Age'].min()\n",
        "age_max = data['Age'].max()\n",
        "age_mean = data['Age'].mean()\n",
        "age_median = data['Age'].median()\n",
        "\n",
        "print(\"\\nAge Distribution Summary:\")\n",
        "print(f\"Minimum Age: {age_min}\")\n",
        "print(f\"Maximum Age: {age_max}\")\n",
        "print(f\"Mean Age: {age_mean:.2f}\")\n",
        "print(f\"Median Age: {age_median}\")\n",
        "\n",
        "# Plot age distribution\n",
        "plt.figure(figsize=(8, 5))\n",
        "plt.hist(data['Age'], bins=10, color='skyblue', edgecolor='black', alpha=0.7)\n",
        "plt.title(\"Age Distribution\")\n",
        "plt.xlabel(\"Age\")\n",
        "plt.ylabel(\"Frequency\")\n",
        "plt.grid(axis='y', alpha=0.75)\n",
        "plt.show()\n"
      ],
      "metadata": {
        "colab": {
          "base_uri": "https://localhost:8080/",
          "height": 589
        },
        "id": "Ulhavs5TUotU",
        "outputId": "9db31d46-60fa-4d9f-a2da-346e54297d72"
      },
      "execution_count": null,
      "outputs": [
        {
          "output_type": "stream",
          "name": "stdout",
          "text": [
            "\n",
            "Age Distribution Summary:\n",
            "Minimum Age: 16.0\n",
            "Maximum Age: 59.0\n",
            "Mean Age: 24.03\n",
            "Median Age: 23.0\n"
          ]
        },
        {
          "output_type": "display_data",
          "data": {
            "text/plain": [
              "<Figure size 800x500 with 1 Axes>"
            ],
            "image/png": "[encoded data removed]"
          },
          "metadata": {}
        }
      ]
    },
    {
      "cell_type": "code",
      "source": [
        "# Correlation between age and total score\n",
        "age_correlation, _ = pearsonr(data['Age'], data['Total_Score'])\n",
        "print(f\"\\nCorrelation between Age and Total Score: r = {age_correlation:.3f}\")\n"
      ],
      "metadata": {
        "colab": {
          "base_uri": "https://localhost:8080/"
        },
        "id": "t99YAAlfIAmd",
        "outputId": "5a5d0cf7-ef55-4a21-f08b-958e6bfd4a72"
      },
      "execution_count": null,
      "outputs": [
        {
          "output_type": "stream",
          "name": "stdout",
          "text": [
            "\n",
            "Correlation between Age and Total Score: r = -0.230\n"
          ]
        }
      ]
    },
    {
      "cell_type": "markdown",
      "source": [
        "# **Podsumowanie Kluczowych Ustaleń**\n",
        "\n",
        "## **Analiza Wiarygodności**\n",
        "\n",
        "- **Alpha Cronbacha** dla pełnej skali i podskal wskazuje na doskonałą spójność wewnętrzną:\n",
        "  - Pełna skala: **0.887**\n",
        "  - Podskale:\n",
        "    - **PSS (Perfekcjonizm skierowany na siebie)**: **0.827**\n",
        "    - **PSI (Perfekcjonizm skierowany na innych)**: **0.838**\n",
        "    - **PSP (Perfekcjonizm społecznie przypisywany)**: **0.883**\n",
        "\n",
        "## **Moc Dyskryminacyjna**\n",
        "\n",
        "- Większość pozycji ma silne korelacje item-total (**powyżej 0.5**), co wskazuje na ich dobre dopasowanie do konstruktu.\n",
        "- Wyjątek stanowi pozycja **12** (\"Wyrażam swoje niezadowolenie z pracy innych\"), której korelacja item-total wynosi **r = 0.273**, co sugeruje słabą moc dyskryminacyjną.\n",
        "\n",
        "## **Tau Kendalla**\n",
        "\n",
        "- **PSS i PSP**: Tau Kendalla wynoszące **0.463** wskazuje na umiarkowaną pozytywną korelację między perfekcjonizmem skierowanym na siebie (PSS) a perfekcjonizmem społecznie przypisywanym (PSP).\n",
        "- **PSS i PSI**: Tau wynoszące **0.278** sugeruje słabą do umiarkowanej pozytywną korelację między perfekcjonizmem skierowanym na siebie (PSS) a perfekcjonizmem skierowanym na innych (PSI).\n",
        "- **PSI i PSP**: Tau wynoszące **0.218** wskazuje na słabą pozytywną korelację między perfekcjonizmem skierowanym na innych (PSI) a perfekcjonizmem społecznie przypisywanym (PSP).\n",
        "\n",
        "**Interpretacja:** Wyniki są zgodne z teoretycznymi oczekiwaniami: wymiary perfekcjonizmu są pozytywnie powiązane, ale jednocześnie uchwytują różne aspekty konstruktu, co wskazuje na umiarkowane korelacje.\n",
        "\n",
        "## **Analiza Demograficzna**\n",
        "\n",
        "- **Płeć**: Brak istotnej różnicy w całkowitych wynikach perfekcjonizmu między mężczyznami a kobietami:\n",
        "  - **t = -0.821**, **p = 0.414**\n",
        "- **Wiek**: Obserwowano słabą ujemną korelację między wiekiem a całkowitym wynikiem perfekcjonizmu:\n",
        "  - **r = -0.230**\n",
        "\n",
        "---\n",
        "\n",
        "### **Podsumowanie:**\n",
        "Uzyskane wyniki sugerują, że kwestionariusz charakteryzuje się wysoką rzetelnością i spójnością wewnętrzną, przy czym wymiary perfekcjonizmu są pozytywnie powiązane, ale odrębne. Demografia (płeć i wiek) wydaje się mieć niewielki wpływ na całkowite wyniki perfekcjonizmu.\n"
      ],
      "metadata": {
        "id": "wDD17B7CIbSJ"
      }
    }
  ]
}