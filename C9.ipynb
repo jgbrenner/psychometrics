{
  "nbformat": 4,
  "nbformat_minor": 0,
  "metadata": {
    "colab": {
      "provenance": [],
      "authorship_tag": "ABX9TyObw0+o9yjEn851O98o7Xji",
      "include_colab_link": true
    },
    "kernelspec": {
      "name": "python3",
      "display_name": "Python 3"
    },
    "language_info": {
      "name": "python"
    }
  },
  "cells": [
    {
      "cell_type": "markdown",
      "metadata": {
        "id": "view-in-github",
        "colab_type": "text"
      },
      "source": [
        "<a href=\"https://colab.research.google.com/github/jgbrenner/psychometrics/blob/main/C9.ipynb\" target=\"_parent\"><img src=\"https://colab.research.google.com/assets/colab-badge.svg\" alt=\"Open In Colab\"/></a>"
      ]
    },
    {
      "cell_type": "markdown",
      "source": [
        "## **Generating Psychometric Scale Items Using an Open Source LLM and Conducting Exploratory Graph Analysis**\n",
        "\n"
      ],
      "metadata": {
        "id": "UvoGrNfymB6A"
      }
    },
    {
      "cell_type": "markdown",
      "source": [
        "# Methodology\n",
        "\n",
        "# Overview\n",
        "\n",
        "In this notebook, I will utilize an open-source large language model (LLM) to generate items for a psychometric scale measuring three dimensions of perfectionism: Rigid Perfectionism, Self-Critical Perfectionism, and Narcissistic Perfectionism. Following item generation, I will perform Exploratory Graph Analysis (EGA) to validate the structure and dimensionality of the generated items.\n",
        "\n",
        "\n",
        "# Steps Involved\n",
        "\n",
        "Item Generation:\n",
        "I prompted the LLM to generate six items for each construct, specifying that five should be regular-keyed and one should be reverse-keyed. The output was formatted in JSON for easy processing.\n",
        "The constructs targeted are:\n",
        "\n",
        "- Rigid Perfectionism\n",
        "\n",
        "- Self-Critical Perfectionism\n",
        "\n",
        "- Narcissistic Perfectionism\n",
        "\n",
        "\n",
        "# Data Preparation:\n",
        "\n",
        "The generated items were compiled into a data frame, and constructs were extracted for further analysis.\n",
        "An embeddings array was created to represent the items in a high-dimensional space suitable for EGA.\n",
        "\n",
        "# Transfer to R:\n",
        "\n",
        "The embeddings array and constructs list were transferred from Python to R using the rpy2 interface.\n",
        "\n",
        "# Exploratory Graph Analysis (EGA):\n",
        "\n",
        "In R, the embeddings array was converted into a matrix format, with appropriate row names assigned based on the constructs.\n",
        "The EGAnet library was utilized to perform EGA on the embeddings matrix, allowing for an exploration of the underlying structure of the psychometric items.\n",
        "\n",
        "Results were printed and visualized to assess the dimensionality of the constructs.\n",
        "\n",
        "# Conclusion\n",
        "This methodology enables a systematic approach to generating and validating psychometric scale items, ensuring that they are both relevant and statistically sound."
      ],
      "metadata": {
        "id": "UVgokHbzm--O"
      }
    },
    {
      "cell_type": "code",
      "source": [
        "!pip install groq"
      ],
      "metadata": {
        "colab": {
          "base_uri": "https://localhost:8080/"
        },
        "collapsed": true,
        "id": "H4G0ho4ndiM1",
        "outputId": "5ea48ef6-e219-4004-bf48-d1a0ac3c937b"
      },
      "execution_count": 13,
      "outputs": [
        {
          "output_type": "stream",
          "name": "stdout",
          "text": [
            "Requirement already satisfied: groq in /usr/local/lib/python3.10/dist-packages (0.12.0)\n",
            "Requirement already satisfied: anyio<5,>=3.5.0 in /usr/local/lib/python3.10/dist-packages (from groq) (3.7.1)\n",
            "Requirement already satisfied: distro<2,>=1.7.0 in /usr/local/lib/python3.10/dist-packages (from groq) (1.9.0)\n",
            "Requirement already satisfied: httpx<1,>=0.23.0 in /usr/local/lib/python3.10/dist-packages (from groq) (0.27.2)\n",
            "Requirement already satisfied: pydantic<3,>=1.9.0 in /usr/local/lib/python3.10/dist-packages (from groq) (2.9.2)\n",
            "Requirement already satisfied: sniffio in /usr/local/lib/python3.10/dist-packages (from groq) (1.3.1)\n",
            "Requirement already satisfied: typing-extensions<5,>=4.7 in /usr/local/lib/python3.10/dist-packages (from groq) (4.12.2)\n",
            "Requirement already satisfied: idna>=2.8 in /usr/local/lib/python3.10/dist-packages (from anyio<5,>=3.5.0->groq) (3.10)\n",
            "Requirement already satisfied: exceptiongroup in /usr/local/lib/python3.10/dist-packages (from anyio<5,>=3.5.0->groq) (1.2.2)\n",
            "Requirement already satisfied: certifi in /usr/local/lib/python3.10/dist-packages (from httpx<1,>=0.23.0->groq) (2024.8.30)\n",
            "Requirement already satisfied: httpcore==1.* in /usr/local/lib/python3.10/dist-packages (from httpx<1,>=0.23.0->groq) (1.0.7)\n",
            "Requirement already satisfied: h11<0.15,>=0.13 in /usr/local/lib/python3.10/dist-packages (from httpcore==1.*->httpx<1,>=0.23.0->groq) (0.14.0)\n",
            "Requirement already satisfied: annotated-types>=0.6.0 in /usr/local/lib/python3.10/dist-packages (from pydantic<3,>=1.9.0->groq) (0.7.0)\n",
            "Requirement already satisfied: pydantic-core==2.23.4 in /usr/local/lib/python3.10/dist-packages (from pydantic<3,>=1.9.0->groq) (2.23.4)\n"
          ]
        }
      ]
    },
    {
      "cell_type": "code",
      "execution_count": 14,
      "metadata": {
        "colab": {
          "base_uri": "https://localhost:8080/"
        },
        "id": "Od4n-7MPV4qR",
        "outputId": "16d71a14-1436-45d0-a72b-bc99b46ca4b3"
      },
      "outputs": [
        {
          "output_type": "stream",
          "name": "stdout",
          "text": [
            "The rpy2.ipython extension is already loaded. To reload it, use:\n",
            "  %reload_ext rpy2.ipython\n",
            "Mounted at /content/drive\n"
          ]
        }
      ],
      "source": [
        "# Load the R magic extension for rpy2\n",
        "%load_ext rpy2.ipython\n",
        "\n",
        "import os\n",
        "from google.colab import drive\n",
        "\n",
        "# Mount Google Drive\n",
        "drive.mount('/content/drive', force_remount=True)\n",
        "\n",
        "# Define the path where the R library will be saved in Google Drive\n",
        "library_path = '/content/drive/MyDrive/R_libraries'\n",
        "\n",
        "# Create the directory if it doesn't exist\n",
        "if not os.path.exists(library_path):\n",
        "    os.makedirs(library_path)"
      ]
    },
    {
      "cell_type": "code",
      "source": [
        "#verify rpy2 version as this is known to cause errors ( ver 3.4.2 works fine )\n",
        "import rpy2\n",
        "print(f\"rpy2 version: {rpy2.__version__}\")"
      ],
      "metadata": {
        "colab": {
          "base_uri": "https://localhost:8080/"
        },
        "id": "y8juDrLcWJx-",
        "outputId": "3c631a0d-cd42-4f99-906f-1656252ce865"
      },
      "execution_count": 15,
      "outputs": [
        {
          "output_type": "stream",
          "name": "stdout",
          "text": [
            "rpy2 version: 3.4.2\n"
          ]
        }
      ]
    },
    {
      "cell_type": "code",
      "source": [
        "%%R -i library_path\n",
        "\n",
        "# Set the custom library path to persist during the Colab session\n",
        ".libPaths(library_path)\n",
        "\n",
        "# Set CRAN repository globally\n",
        "options(repos = c(CRAN = \"https://cloud.r-project.org\"))\n",
        "\n",
        "# List of required R packages\n",
        "required_packages <- c(\"gmp\", \"Rmpfr\", \"CVXR\", \"fungible\", \"EGAnet\")\n",
        "\n",
        "# Install each package only if it's not already installed\n",
        "for (pkg in required_packages) {\n",
        "    if (!requireNamespace(pkg, quietly = TRUE)) {\n",
        "        install.packages(pkg, lib = library_path, dependencies = TRUE)\n",
        "    }\n",
        "}\n",
        "\n",
        "# Load EGAnet library\n",
        "library(EGAnet)\n"
      ],
      "metadata": {
        "id": "2tvJIjAiWO_V"
      },
      "execution_count": 16,
      "outputs": []
    },
    {
      "cell_type": "code",
      "source": [
        "# Import necessary Python libraries\n",
        "import openai\n",
        "import pandas as pd\n",
        "import numpy as np\n",
        "import json\n",
        "import requests\n",
        "import re\n",
        "\n",
        "\n",
        "from google.colab import userdata\n",
        "\n",
        "#fetching the OpenAI API key from secrets\n",
        "openai_api_key = userdata.get('OPENAI_API_KEY')\n",
        "\n",
        "from groq import Groq\n",
        "\n",
        "#fetching the Groq API key from secrets\n",
        "groq_api_key = userdata.get('GROQ_API_KEY')\n",
        "\n",
        "# Initialize the Groq client\n",
        "client = Groq(api_key=groq_api_key)"
      ],
      "metadata": {
        "id": "vg5A2cprXwpZ"
      },
      "execution_count": 17,
      "outputs": []
    },
    {
      "cell_type": "markdown",
      "source": [
        "# Prompting is everything.\n",
        "\n",
        " Using the llama3-8b-8192 model  with this particualr prompt I was able to get the results needed. For other models the prompt might need to be modified, as all models are non-deterministic."
      ],
      "metadata": {
        "id": "r3Zll2r6k7tW"
      }
    },
    {
      "cell_type": "code",
      "source": [
        "# Define the messages for the LLM\n",
        "messages = [\n",
        "    {\n",
        "        \"role\": \"system\",\n",
        "        \"content\": \"You are an expert psychometrician creating test items.\"\n",
        "    },\n",
        "    {\n",
        "        \"role\": \"user\",\n",
        "        \"content\": (\n",
        "            \"Please generate six items for each of the following constructs: \"\n",
        "            \"Rigid Perfectionism, Self-Critical Perfectionism, and Narcissistic Perfectionism. \"\n",
        "            \"For each construct, provide five regular-keyed and one reverse-keyed item. \"\n",
        "            \"Make them concise and clear. \"\n",
        "            \"Provide the output ONLY in JSON format as a list of dictionaries, \"\n",
        "            \"without any additional text or explanation. \"\n",
        "            \"Each dictionary should have keys 'construct', 'item', and 'type' (either 'regular-keyed' or 'reverse-keyed').\"\n",
        "        )\n",
        "    }\n",
        "]\n",
        "\n",
        "try:\n",
        "    # Create the completion request\n",
        "    completion = client.chat.completions.create(\n",
        "        model=\"llama3-8b-8192\", # using opensource model for replication purposes\n",
        "        messages=messages,\n",
        "        temperature=1,\n",
        "        max_tokens=2048,\n",
        "        top_p=1,\n",
        "        stream=False,  # Disable streaming for simplicity\n",
        "        stop=None,\n",
        "    )\n",
        "\n",
        "    # Collect the response content\n",
        "    response_content = completion.choices[0].message.content\n",
        "    print(\"\\nLLM Output:\\n\", response_content)\n",
        "\n",
        "except Exception as e:\n",
        "    print(f\"An error occurred: {e}\")\n",
        "    response_content = \"\"\n"
      ],
      "metadata": {
        "colab": {
          "base_uri": "https://localhost:8080/"
        },
        "collapsed": true,
        "id": "w7eptJmid1Tb",
        "outputId": "8db8a93d-5596-4674-8953-85e45caea80a"
      },
      "execution_count": 18,
      "outputs": [
        {
          "output_type": "stream",
          "name": "stdout",
          "text": [
            "\n",
            "LLM Output:\n",
            " [\n",
            "  {\n",
            "    \"construct\": \"Rigid Perfectionism\",\n",
            "    \"item\": \"I have high standards for myself and expect to meet them all the time.\",\n",
            "    \"type\": \"regular-keyed\"\n",
            "  },\n",
            "  {\n",
            "    \"construct\": \"Rigid Perfectionism\",\n",
            "    \"item\": \"I always strive to achieve perfection, no matter what the cost.\",\n",
            "    \"type\": \"regular-keyed\"\n",
            "  },\n",
            "  {\n",
            "    \"construct\": \"Rigid Perfectionism\",\n",
            "    \"item\": \"I set very specific and rigorous goals for myself.\",\n",
            "    \"type\": \"regular-keyed\"\n",
            "  },\n",
            "  {\n",
            "    \"construct\": \"Rigid Perfectionism\",\n",
            "    \"item\": \"I am not comfortable with imperfect or incomplete work.\",\n",
            "    \"type\": \"regular-keyed\"\n",
            "  },\n",
            "  {\n",
            "    \"construct\": \"Rigid Perfectionism\",\n",
            "    \"item\": \"I often feel anxious or stressed when I don't meet my high standards.\",\n",
            "    \"type\": \"regular-keyed\"\n",
            "  },\n",
            "  {\n",
            "    \"construct\": \"Rigid Perfectionism\",\n",
            "    \"item\": \"I don't tolerate mistakes well.\",\n",
            "    \"type\": \"reverse-keyed\"\n",
            "  },\n",
            "  {\n",
            "    \"construct\": \"Self-Critical Perfectionism\",\n",
            "    \"item\": \"I often criticize myself harshly when I make a mistake.\",\n",
            "    \"type\": \"regular-keyed\"\n",
            "  },\n",
            "  {\n",
            "    \"construct\": \"Self-Critical Perfectionism\",\n",
            "    \"item\": \"I am harder on myself than others when it comes to making mistakes.\",\n",
            "    \"type\": \"regular-keyed\"\n",
            "  },\n",
            "  {\n",
            "    \"construct\": \"Self-Critical Perfectionism\",\n",
            "    \"item\": \"I rarely forgive myself for my mistakes.\",\n",
            "    \"type\": \"regular-keyed\"\n",
            "  },\n",
            "  {\n",
            "    \"construct\": \"Self-Critical Perfectionism\",\n",
            "    \"item\": \"I feel like a failure when I don't meet my expectations.\",\n",
            "    \"type\": \"regular-keyed\"\n",
            "  },\n",
            "  {\n",
            "    \"construct\": \"Self-Critical Perfectionism\",\n",
            "    \"item\": \"I am more likely to dwell on my flaws than my strengths.\",\n",
            "    \"type\": \"regular-keyed\"\n",
            "  },\n",
            "  {\n",
            "    \"construct\": \"Self-Critical Perfectionism\",\n",
            "    \"item\": \"I am generally easy on myself.\",\n",
            "    \"type\": \"reverse-keyed\"\n",
            "  },\n",
            "  {\n",
            "    \"construct\": \"Narcissistic Perfectionism\",\n",
            "    \"item\": \"I believe I am the only one who truly understands what perfection means.\",\n",
            "    \"type\": \"regular-keyed\"\n",
            "  },\n",
            "  {\n",
            "    \"construct\": \"Narcissistic Perfectionism\",\n",
            "    \"item\": \"I often feel envious of others who are more successful or accomplished.\",\n",
            "    \"type\": \"regular-keyed\"\n",
            "  },\n",
            "  {\n",
            "    \"construct\": \"Narcissistic Perfectionism\",\n",
            "    \"item\": \"I am constantly striving to prove myself as the best.\",\n",
            "    \"type\": \"regular-keyed\"\n",
            "  },\n",
            "  {\n",
            "    \"construct\": \"Narcissistic Perfectionism\",\n",
            "    \"item\": \"I often feel like I am above criticism or constructive feedback.\",\n",
            "    \"type\": \"regular-keyed\"\n",
            "  },\n",
            "  {\n",
            "    \"construct\": \"Narcissistic Perfectionism\",\n",
            "    \"item\": \"I am completely satisfied with my achievements and abilities.\",\n",
            "    \"type\": \"reverse-keyed\"\n",
            "  },\n",
            "  {\n",
            "    \"construct\": \"Narcissistic Perfectionism\",\n",
            "    \"item\": \"I believe that I am deserving of special treatment and recognition.\",\n",
            "    \"type\": \"regular-keyed\"\n",
            "  },\n",
            "  {\n",
            "    \"construct\": \"Narcissistic Perfectionism\",\n",
            "    \"item\": \"I often prioritize my own interests and needs over others.\",\n",
            "    \"type\": \"regular-keyed\"\n",
            "  }\n",
            "]\n"
          ]
        }
      ]
    },
    {
      "cell_type": "code",
      "source": [
        "# Parse the JSON response\n",
        "try:\n",
        "    generated_items = json.loads(response_content)\n",
        "    items_df = pd.DataFrame(generated_items)\n",
        "except json.JSONDecodeError as e:\n",
        "    print(f\"JSON decoding failed: {e}\")\n",
        "    # Attempt to extract JSON content from the response\n",
        "    json_match = re.search(r'\\[.*\\]', response_content, re.DOTALL)\n",
        "    if json_match:\n",
        "        json_str = json_match.group(0)\n",
        "        try:\n",
        "            generated_items = json.loads(json_str)\n",
        "            items_df = pd.DataFrame(generated_items)\n",
        "        except json.JSONDecodeError as e2:\n",
        "            print(f\"Second JSON decoding attempt failed: {e2}\")\n",
        "            items_df = None\n",
        "    else:\n",
        "        print(\"No JSON content found in the response.\")\n",
        "        items_df = None\n",
        "\n",
        "# Check if items_df is defined\n",
        "if items_df is not None:\n",
        "    # Save to CSV (optional)\n",
        "    items_df.to_csv(\"perfectionism_items.csv\", index=False)\n",
        "    print(\"Items saved to 'perfectionism_items.csv'.\")\n",
        "\n",
        "    # Prepare the list of items\n",
        "    item_texts = items_df[\"item\"].tolist()\n",
        "\n",
        "    # Ensure item_texts is clean and valid\n",
        "    item_texts = [item for item in item_texts if item.strip()]  # Filter empty strings\n",
        "\n",
        "    # Set up the API endpoint and headers for OpenAI embeddings\n",
        "    embedding_endpoint = \"https://api.openai.com/v1/embeddings\"\n",
        "    embedding_model = \"text-embedding-3-small\"  # Using latest optimized model\n",
        "\n",
        "    headers = {\n",
        "        \"Authorization\": f\"Bearer {openai_api_key}\",\n",
        "        \"Content-Type\": \"application/json\"\n",
        "    }\n",
        "\n",
        "    # Prepare the data payload\n",
        "    data = {\n",
        "        \"model\": embedding_model,\n",
        "        \"input\": item_texts\n",
        "    }\n",
        "\n",
        "    # Make the API request\n",
        "    try:\n",
        "        response = requests.post(embedding_endpoint, headers=headers, json=data)\n",
        "\n",
        "        # Check if the request was successful\n",
        "        if response.status_code != 200:\n",
        "            print(f\"Request failed with status code {response.status_code}: {response.text}\")\n",
        "        else:\n",
        "            response_data = response.json()\n",
        "            # Extract embeddings\n",
        "            embeddings = [item['embedding'] for item in response_data['data']]\n",
        "            embeddings_array = np.array(embeddings)\n",
        "            print(f\"Embeddings generated successfully. Shape: {embeddings_array.shape}\")\n",
        "            # Save the embeddings\n",
        "            np.save(\"embeddings.npy\", embeddings_array)\n",
        "            print(\"Embeddings saved as 'embeddings.npy'.\")\n",
        "    except Exception as e:\n",
        "        print(f\"An error occurred during embedding generation: {e}\")\n",
        "else:\n",
        "    print(\"Error: items_df is not defined. Cannot proceed with embedding generation.\")\n"
      ],
      "metadata": {
        "colab": {
          "base_uri": "https://localhost:8080/"
        },
        "id": "qruOJHI5egru",
        "outputId": "d39ac84a-ec8c-40e7-f07d-441cf6157a07"
      },
      "execution_count": 19,
      "outputs": [
        {
          "output_type": "stream",
          "name": "stdout",
          "text": [
            "Items saved to 'perfectionism_items.csv'.\n",
            "Embeddings generated successfully. Shape: (19, 1536)\n",
            "Embeddings saved as 'embeddings.npy'.\n"
          ]
        }
      ]
    },
    {
      "cell_type": "code",
      "source": [
        "# Prepare constructs list\n",
        "items_constructs = items_df['construct'].tolist()\n",
        "\n",
        "# Transfer data to R\n",
        "%R -i embeddings_array -i items_constructs"
      ],
      "metadata": {
        "id": "zNbuR6y0jqH1"
      },
      "execution_count": 21,
      "outputs": []
    },
    {
      "cell_type": "code",
      "source": [
        "%%R\n",
        "# Convert embeddings_array to a matrix\n",
        "embeddings_matrix <- as.matrix(embeddings_array)\n",
        "\n",
        "# Optionally, assign row names to the matrix for clarity\n",
        "rownames(embeddings_matrix) <- items_constructs\n",
        "\n",
        "# Load necessary libraries (EGAnet already loaded)\n",
        "library(EGAnet)\n",
        "\n",
        "# Perform EGA analysis\n",
        "ega_result <- EGA(embeddings_matrix)\n",
        "print(ega_result)\n",
        "\n",
        "# Plot the results\n",
        "plot(ega_result)"
      ],
      "metadata": {
        "id": "2u2q_U8BjwtW"
      },
      "execution_count": null,
      "outputs": []
    }
  ]
}