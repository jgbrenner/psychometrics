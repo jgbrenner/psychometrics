{
  "nbformat": 4,
  "nbformat_minor": 0,
  "metadata": {
    "colab": {
      "provenance": [],
      "authorship_tag": "ABX9TyNWX5AntLYy6dUlkkci7X0g",
      "include_colab_link": true
    },
    "kernelspec": {
      "name": "python3",
      "display_name": "Python 3"
    },
    "language_info": {
      "name": "python"
    }
  },
  "cells": [
    {
      "cell_type": "markdown",
      "metadata": {
        "id": "view-in-github",
        "colab_type": "text"
      },
      "source": [
        "<a href=\"https://colab.research.google.com/github/jgbrenner/psychometrics/blob/main/OpenRouterAPI_test.ipynb\" target=\"_parent\"><img src=\"https://colab.research.google.com/assets/colab-badge.svg\" alt=\"Open In Colab\"/></a>"
      ]
    },
    {
      "cell_type": "markdown",
      "source": [
        "This notebook is created to test the functionality of the Open Router API and generating  test items for the psychometric scale using LLM's"
      ],
      "metadata": {
        "id": "WqCaq5r5jLT9"
      }
    },
    {
      "cell_type": "code",
      "execution_count": 31,
      "metadata": {
        "id": "tCGBv5m-gD5L"
      },
      "outputs": [],
      "source": [
        "!pip install --quiet --upgrade openai"
      ]
    },
    {
      "cell_type": "code",
      "source": [
        "from openai import OpenAI\n",
        "from google.colab import userdata          # Colab-native secrets helper\n",
        "import random, time, itertools, json"
      ],
      "metadata": {
        "id": "yIKX2Mg3jrTH"
      },
      "execution_count": 32,
      "outputs": []
    },
    {
      "cell_type": "code",
      "source": [
        "#Retrieve the API key from Colab secrets\n",
        "api_key = userdata.get(\"OPENROUTER_API_KEY\")          # store key in Colab “User secrets”\n",
        "if api_key is None:\n",
        "    raise ValueError(\"Missing OPENROUTER_API_KEY in Colab userdata panel\")\n",
        "\n",
        "client = OpenAI(\n",
        "    base_url=\"https://openrouter.ai/api/v1\",\n",
        "    api_key=api_key,\n",
        ")\n",
        "\n",
        "CHAT_MODEL = \"openai/gpt-4o-mini\"                     # easy to adjust later\n",
        "RESPONSE_SCALE = [\"1\", \"2\", \"3\", \"4\", \"5\"]            # 5 scale Likert list"
      ],
      "metadata": {
        "id": "g-5CZCKYkdqW"
      },
      "execution_count": 33,
      "outputs": []
    },
    {
      "cell_type": "code",
      "source": [
        "#sanity check\n",
        "resp = client.chat.completions.create(\n",
        "    model=CHAT_MODEL,\n",
        "    messages=[{\"role\":\"user\",\"content\":\"Hello, state your model version and training cutoff date in a brief few token message\"}]\n",
        ")\n",
        "print(resp.choices[0].message.content)\n"
      ],
      "metadata": {
        "colab": {
          "base_uri": "https://localhost:8080/"
        },
        "id": "3ZXUQb5qk_rI",
        "outputId": "6639d64c-10dd-41d2-80dc-ed9fd986ecd3"
      },
      "execution_count": 34,
      "outputs": [
        {
          "output_type": "stream",
          "name": "stdout",
          "text": [
            "I am ChatGPT, based on the GPT-3.5 model, with a training cutoff date of October 2021.\n"
          ]
        }
      ]
    },
    {
      "cell_type": "markdown",
      "source": [
        "do not run the cell directly below, its for showcase only"
      ],
      "metadata": {
        "id": "oVsSBZYTDM7p"
      }
    },
    {
      "cell_type": "code",
      "source": [
        "# -- Biographic Descriptions (full set) --\n",
        "bios = [\n",
        "    \"I like to garden. I like photography. I love traveling. I like to bake pies.\",\n",
        "    \"I’ve a beard. I graduated high school. I like rap music. I live on a farm. I drive a truck.\",\n",
        "    \"I blog about salt water aquarium ownership. I still love to line dry my clothes. I’m allergic to peanuts. I’ll one day own a ferret. My mom raised me by herself and taught me to play baseball.\",\n",
        "    \"Since young I've loved to cook. I auditioned for a cooking show. I think I’ve talent for it. I took classes while growing up.\",\n",
        "    \"My name is Tom. I try to watch what I eat. I enjoy eating Italian food. Pizza is my favorite. I am East Asian.\",\n",
        "    \"I live by a lake. I am a mother. I own a custom upholstery shop. I’m a wife.\",\n",
        "    \"I enjoy working out and learning new things. I’m a student in college. I’m studying software development. I play the guitar.\",\n",
        "    \"I’ve three dogs at home. I hate to workout, but I need to. I am very good at the drums. I have a bicycle. I need to take my blood sugar everyday.\",\n",
        "    \"I work in advertising. My mother is dead. I like to hike. I’ve a golden retriever. I write fiction for fun.\",\n",
        "    \"I can never decide between a chili corn dog and a cheesy hot dog. I drive more than an hour each way to work. I prefer the night to the day, but I love sunshine. I am a grandparent at 44.\",\n",
        "    \"I like to smell my own farts. My beer gut is so huge I haven't seen my feet in two years. I am from San Francisco. I am always the one who buys the beers. I like to place blame on other people even when I know it is my fault.\",\n",
        "    \"I lived most of my life not knowing who Bob Marley was. When I cut loose, I lose control. We help each other out in my family. I despise my boss. I work over 60 hours a week as a restaurant manager.\",\n",
        "    \"I prefer the simpler times. I like simple jokes. Some jokes go too far. I like the Flintstones.\",\n",
        "    \"It is my universe, and everyone else is just a character in it. I work as a dental assistant in a ritzy part of town. I’ve borderline personality disorder. At night, I party hard in the Atlanta club scene, and I never miss a music festival.\",\n",
        "    \"I watch a lot of TV. I live alone. My favorite food is a cheeseburger. I enjoy fishing. I work on cars for a living.\",\n",
        "    \"I’m an animal rights activist. I hope to retire to Florida. I played in a band for 17 years. My mother and father are both in the church choir.\",\n",
        "    \"I’ve taken formal music lessons since I was 5. I’m a musician. My best friend is in a band with me. I wish I could spend more time at home.\",\n",
        "    \"I grew up in Kentucky. I’m a veteran. My favorite book is Ender’s Game. I have a garden. I like to read.\",\n",
        "    \"I am a vegan. I love country music. I love the beach. I like to read.\",\n",
        "    \"I’ve depression and anxiety so I don’t really go out a lot. I work at home, editing. I have a cat. I hope to move out soon.\",\n",
        "    \"My favorite food is mushroom ravioli. I’ve never met my father. My mother works at a bank. I work in an animal shelter.\",\n",
        "    \"I love kids and dogs. I like to go shopping with my daughters. I like to cook. I love to chat with my friends.\",\n",
        "    \"I swim often. I run track. I wear glasses all day. I take medication.\",\n",
        "    \"I like to go on long hikes. I like to play volleyball. I like to come up with new hairstyles. I like to do my nails.\",\n",
        "    \"I watch Jimmy Fallon’s show every night. I have never kissed a woman. People notice how organized I am. I believe that I can achieve anything.\",\n",
        "    \"I drive a lifted Chevy truck. I played football in high school. I am a roofer. I always have a beer after work.\",\n",
        "    \"I love animals. My father worked for GE. Green is my favorite color. I enjoy playing tennis. I’m an aspiring singer.\",\n",
        "    \"I try to watch what I eat. I enjoy eating Italian food. Pizza is my favorite. My name is Tom. I am East Asian.\",\n",
        "    \"I'm allergic to peanuts. I like eating vegetables. I love the Beatles. I’m usually very shy. I have trouble getting along with family.\",\n",
        "    \"I go to high school. Math is my favorite subject. I live in the United States. I am a boy.\",\n",
        "    \"I have a job as an IT agent. I like smoking weed. My dad works for Stifel. I love rap music. I’m a meataholic.\",\n",
        "    \"I work in TV. I do not treat my girlfriend very well. I like to cook breakfast on Sundays. I love to sing. I am a lesbian.\",\n",
        "    \"I work on semi trucks for a living. My father was a driver himself. I got off the road when I married my sweetheart. I want to take her on vacations one day. My motor never stops running.\",\n",
        "    \"I own an iPhone 7. I drink hot chocolate during the winter. I’m allergic to seafood. My mother used to read me bedtime stories.\",\n",
        "    \"I am eighteen years old. I’m majoring in business. I just bought my first car. I received a full scholarship to Florida State University.\",\n",
        "    \"I live in a tiny house to save money. I collect single malt scotch. I listen to blues and jazz. I tend bar on the weekends. During the week I go to college to become a lawyer.\",\n",
        "    \"I love to go horseback riding whenever I can. I’m a mother of two beautiful boys. My family and I go camping every month. My favorite artist is Justin Bieber.\",\n",
        "    \"I especially enjoy listening to the band The Lumineers. I enjoy reading and walking on sunny days. I’m a happy person. I sing many songs.\",\n",
        "    \"I play piano. My favorite color is yellow. My boyfriend is in the army. My father is dead. My hair is short.\",\n",
        "    \"I’m a mother. I’m a nurse at a hospital. My favorite band is the Rolling Stones. I love to read and cook. My favorite food is Mexican food.\",\n",
        "    \"I deliver baked goods in the state where I live. My favorite hobby is playing recreational baseball. I spend my weekends camping. I’m a truck driver. My wife and two kids camp with me.\",\n",
        "    \"I am Argentinian. I like to wear boots. I have many girlfriends. I like to eat beef. I like to ride horses.\",\n",
        "    \"I recently had a private lunch with Will Ferrell. I am trying to become a male model in Hollywood. I’m a huge fan of classical jazz. I am on a low carb diet.\",\n",
        "    \"I want to put my photos to a music video starring Adam Levine. I want to travel the world taking photographs of my travels. I am a widow. I want to be a famous photographer.\",\n",
        "    \"I am in the army. I fly airplanes. I enjoy building computers. I dropped out of college.\",\n",
        "    \"I have three children. I live in the suburbs of a major city. I like to garden. I graduated college for secondary English education.\",\n",
        "    \"I play guitar in the local band. I live on a small farm in Ohio. I am the youngest of three brothers. I have never been to the city.\",\n",
        "    \"I still live at home with my parents. I play video games all day. I’m 32. I eat all takeout.\",\n",
        "    \"My friend once bought me a car. I am disabled and cannot walk. I take vitamin C when I have a cold. I do not eat bread.\",\n",
        "    \"My favorite season is winter.\"\n",
        "]"
      ],
      "metadata": {
        "id": "SUDhSfQhynrp"
      },
      "execution_count": 35,
      "outputs": []
    },
    {
      "cell_type": "code",
      "source": [
        "# -- Big Five Inventory (BFI-44 Items) grouped by trait --\n",
        "bfi_items = {\n",
        "    \"extraversion\": [\n",
        "        \"I see myself as someone who is talkative.\",\n",
        "        \"I see myself as someone who tends to be quiet.\",\n",
        "        \"I see myself as someone who is full of energy.\",\n",
        "        \"I see myself as someone who generates a lot of enthusiasm.\",\n",
        "        \"I see myself as someone who tends to be reserved.\",\n",
        "        \"I see myself as someone who is outgoing, sociable.\",\n",
        "        \"I see myself as someone who has an assertive personality.\",\n",
        "        \"I see myself as someone who is sometimes shy.\",\n",
        "    ],\n",
        "    \"agreeableness\": [\n",
        "        \"I see myself as someone who is considerate and kind to almost everyone.\",\n",
        "        \"I see myself as someone who tends to find fault with others.\",\n",
        "        \"I see myself as someone who is helpful and unselfish with others.\",\n",
        "        \"I see myself as someone who starts quarrels with others.\",\n",
        "        \"I see myself as someone who has a forgiving nature.\",\n",
        "        \"I see myself as someone who is generally trusting.\",\n",
        "        \"I see myself as someone who is sometimes rude to others.\",\n",
        "        \"I see myself as someone who is occasionally critical of others.\",\n",
        "    ],\n",
        "    \"conscientiousness\": [\n",
        "        \"I see myself as someone who does a thorough job.\",\n",
        "        \"I see myself as someone who tends to be lazy.\",\n",
        "        \"I see myself as someone who does things efficiently.\",\n",
        "        \"I see myself as someone who tends to be disorganized.\",\n",
        "        \"I see myself as someone who is reliable and can always be counted on.\",\n",
        "        \"I see myself as someone who is easily distracted.\",\n",
        "        \"I see myself as someone who perseveres until the task is finished.\",\n",
        "        \"I see myself as someone who does not like order.\",\n",
        "    ],\n",
        "    \"neuroticism\": [\n",
        "        \"I see myself as someone who is relaxed, handles stress well.\",\n",
        "        \"I see myself as someone who gets nervous easily.\",\n",
        "        \"I see myself as someone who worries a lot.\",\n",
        "        \"I see myself as someone who is calm and emotionally stable.\",\n",
        "        \"I see myself as someone who is easily upset.\",\n",
        "        \"I see myself as someone whose mood often goes up and down.\",\n",
        "        \"I see myself as someone who remains cool in tense situations.\",\n",
        "        \"I see myself as someone who can get overwhelmed by emotions.\",\n",
        "    ],\n",
        "    \"openness\": [\n",
        "        \"I see myself as someone who is original and comes up with new ideas.\",\n",
        "        \"I see myself as someone who is curious about many different things.\",\n",
        "        \"I see myself as someone who has an active imagination.\",\n",
        "        \"I see myself as someone who values artistic experiences.\",\n",
        "        \"I see myself as someone who prefers routine over variety.\",\n",
        "        \"I see myself as someone who is sophisticated in art, music, or literature.\",\n",
        "        \"I see myself as someone who likes to reflect, play with ideas.\",\n",
        "        \"I see myself as someone who is not interested in abstract ideas.\",\n",
        "    ],\n",
        "}"
      ],
      "metadata": {
        "id": "R9kFzbwgyc4z"
      },
      "execution_count": 36,
      "outputs": []
    },
    {
      "cell_type": "code",
      "source": [
        "#Prompt Helper\n",
        "def make_chat_prompt(bio: str, item: str):\n",
        "    \"\"\"Return a ChatML-style message list for the OpenAI client.\"\"\"\n",
        "    system_msg = (\n",
        "        \"You are simulating a participant in a psychological survey. \"\n",
        "        \"You will be given a short biography that describes a fictional person. \"\n",
        "        \"Pretend to be that person. Respond ONLY with a number from 1 to 5:\\n\"\n",
        "        \"1 = strongly disagree, 2 = disagree, 3 = neither, 4 = agree, 5 = strongly agree.\"\n",
        "    )\n",
        "\n",
        "    user_msg = (\n",
        "        f'Biography:\\n\"{bio}\"\\n\\n'\n",
        "        f'Statement:\\n\"{item}\"\\n\\n'\n",
        "        \"How much do you agree? Respond with a single number (1-5).\"\n",
        "    )\n",
        "    return [{\"role\": \"system\", \"content\": system_msg},\n",
        "            {\"role\": \"user\", \"content\": user_msg}]"
      ],
      "metadata": {
        "id": "GUfAY_LEyh3c"
      },
      "execution_count": 37,
      "outputs": []
    },
    {
      "cell_type": "code",
      "source": [
        "#Single-Shot Simulation Utility\n",
        "def run_single_simulation(\n",
        "    chat_model: str = CHAT_MODEL,\n",
        "    bios_pool=bios,\n",
        "    item_bank=bfi_items,\n",
        "    seed: int | None = None,\n",
        "    get_usage: bool = False,\n",
        "):\n",
        "    \"\"\"\n",
        "    Returns exactly ONE (trait, bio, item, response) record.\n",
        "    Picks random bio and random item to keep costs negligible.\n",
        "    \"\"\"\n",
        "    rng = random.Random(seed)\n",
        "\n",
        "    trait = rng.choice(list(item_bank.keys()))\n",
        "    item = rng.choice(item_bank[trait])\n",
        "    bio = rng.choice(bios_pool)\n",
        "\n",
        "    messages = make_chat_prompt(bio, item)\n",
        "\n",
        "    response = client.chat.completions.create(\n",
        "        model=chat_model,\n",
        "        messages=messages,\n",
        "        temperature=0,\n",
        "        max_tokens=1,                       # ensures single-token answer\n",
        "        logprobs=True,                      # helps verify it IS a Likert digit\n",
        "        #usage={\"include\": True} if get_usage else None,\n",
        "    )\n",
        "    #If you need usage data, try this after getting the response\n",
        "    if get_usage:\n",
        "        usage = client.models.retrieve(chat_model).usage\n",
        "\n",
        "    reply = response.choices[0].message.content.strip()\n",
        "    if reply not in RESPONSE_SCALE:\n",
        "        raise ValueError(f\"Unexpected reply: {reply!r}\")\n",
        "\n",
        "    record = {\n",
        "        \"trait\": trait,\n",
        "        \"bio\": bio,\n",
        "        \"item\": item,\n",
        "        \"response\": int(reply),\n",
        "    }\n",
        "    if get_usage:\n",
        "        record[\"usage\"] = usage\n",
        "\n",
        "    return record\n"
      ],
      "metadata": {
        "id": "0wLfK6xnKVDv"
      },
      "execution_count": 43,
      "outputs": []
    },
    {
      "cell_type": "code",
      "source": [
        "#Run Example\n",
        "if __name__ == \"__main__\":\n",
        "    result = run_single_simulation(get_usage=False)\n",
        "    print(json.dumps(result, indent=2, ensure_ascii=False))"
      ],
      "metadata": {
        "colab": {
          "base_uri": "https://localhost:8080/"
        },
        "id": "zgFeo4_6_-nK",
        "outputId": "8ce8f9e0-91b7-4919-8795-b47dcec6960e"
      },
      "execution_count": 52,
      "outputs": [
        {
          "output_type": "stream",
          "name": "stdout",
          "text": [
            "{\n",
            "  \"trait\": \"conscientiousness\",\n",
            "  \"bio\": \"I’ve a beard. I graduated high school. I like rap music. I live on a farm. I drive a truck.\",\n",
            "  \"item\": \"I see myself as someone who is easily distracted.\",\n",
            "  \"response\": 3\n",
            "}\n"
          ]
        }
      ]
    }
  ]
}