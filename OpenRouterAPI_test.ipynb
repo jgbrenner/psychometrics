{
  "nbformat": 4,
  "nbformat_minor": 0,
  "metadata": {
    "colab": {
      "provenance": [],
      "authorship_tag": "ABX9TyPsihK+1tXaWCczkHQdUy1c",
      "include_colab_link": true
    },
    "kernelspec": {
      "name": "python3",
      "display_name": "Python 3"
    },
    "language_info": {
      "name": "python"
    }
  },
  "cells": [
    {
      "cell_type": "markdown",
      "metadata": {
        "id": "view-in-github",
        "colab_type": "text"
      },
      "source": [
        "<a href=\"https://colab.research.google.com/github/jgbrenner/psychometrics/blob/main/OpenRouterAPI_test.ipynb\" target=\"_parent\"><img src=\"https://colab.research.google.com/assets/colab-badge.svg\" alt=\"Open In Colab\"/></a>"
      ]
    },
    {
      "cell_type": "markdown",
      "source": [
        "## This notebook is created to test the functionality of the Open Router API and answering test items for the BFI-44 psychometric scale using LLM's"
      ],
      "metadata": {
        "id": "WqCaq5r5jLT9"
      }
    },
    {
      "cell_type": "code",
      "execution_count": 1,
      "metadata": {
        "colab": {
          "base_uri": "https://localhost:8080/"
        },
        "id": "tCGBv5m-gD5L",
        "outputId": "ce87d94a-e7e9-47a6-9a0e-818edf9e0ff2"
      },
      "outputs": [
        {
          "output_type": "stream",
          "name": "stdout",
          "text": [
            "\u001b[?25l   \u001b[90m━━━━━━━━━━━━━━━━━━━━━━━━━━━━━━━━━━━━━━━━\u001b[0m \u001b[32m0.0/661.3 kB\u001b[0m \u001b[31m?\u001b[0m eta \u001b[36m-:--:--\u001b[0m\r\u001b[2K   \u001b[91m━━━━━━━━━━━━━━━━━━━━━━━━━━━━━━━━━━━━━━━\u001b[0m\u001b[91m╸\u001b[0m \u001b[32m655.4/661.3 kB\u001b[0m \u001b[31m27.1 MB/s\u001b[0m eta \u001b[36m0:00:01\u001b[0m\r\u001b[2K   \u001b[90m━━━━━━━━━━━━━━━━━━━━━━━━━━━━━━━━━━━━━━━━\u001b[0m \u001b[32m661.3/661.3 kB\u001b[0m \u001b[31m16.2 MB/s\u001b[0m eta \u001b[36m0:00:00\u001b[0m\n",
            "\u001b[?25h"
          ]
        }
      ],
      "source": [
        "!pip install --quiet --upgrade openai"
      ]
    },
    {
      "cell_type": "code",
      "source": [
        "from openai import OpenAI\n",
        "from google.colab import userdata\n",
        "import random, time, itertools, json, math"
      ],
      "metadata": {
        "id": "yIKX2Mg3jrTH"
      },
      "execution_count": 48,
      "outputs": []
    },
    {
      "cell_type": "markdown",
      "source": [
        "Plug in your own API key and specify the LLM you want to use below"
      ],
      "metadata": {
        "id": "4rXDeAUR20EU"
      }
    },
    {
      "cell_type": "code",
      "source": [
        "#Retrieve the API key from Colab secrets\n",
        "api_key = userdata.get(\"OPENROUTER_API_KEY\")          # store key in Colab “User secrets”\n",
        "if api_key is None:\n",
        "    raise ValueError(\"Missing OPENROUTER_API_KEY in Colab userdata panel\")\n",
        "\n",
        "client = OpenAI(\n",
        "    base_url=\"https://openrouter.ai/api/v1\",\n",
        "    api_key=api_key,\n",
        ")\n",
        "\n",
        "CHAT_MODEL = \"openai/gpt-4.1-nano\"                     # easy to adjust later\n",
        "RESPONSE_SCALE = [\"1\", \"2\", \"3\", \"4\", \"5\"]            # 5 scale Likert list"
      ],
      "metadata": {
        "id": "g-5CZCKYkdqW"
      },
      "execution_count": 43,
      "outputs": []
    },
    {
      "cell_type": "markdown",
      "source": [
        "Test the API connection and verify the model is working"
      ],
      "metadata": {
        "id": "TZFUD8at2-DH"
      }
    },
    {
      "cell_type": "code",
      "source": [
        "#sanity check\n",
        "resp = client.chat.completions.create(\n",
        "    model=CHAT_MODEL,\n",
        "    messages=[{\"role\":\"user\",\"content\":\"Hello, state your model version and training cutoff date in a brief few token message\"}]\n",
        ")\n",
        "print(resp.choices[0].message.content)\n"
      ],
      "metadata": {
        "colab": {
          "base_uri": "https://localhost:8080/"
        },
        "id": "3ZXUQb5qk_rI",
        "outputId": "1cc7a856-ac00-44fb-f2bd-72c18b8f89b5"
      },
      "execution_count": 23,
      "outputs": [
        {
          "output_type": "stream",
          "name": "stdout",
          "text": [
            "I am a large language model, trained by Google. My knowledge cutoff is **June 2024**.\n"
          ]
        }
      ]
    },
    {
      "cell_type": "markdown",
      "source": [
        "Verify if the LLM supports logprobs parameter"
      ],
      "metadata": {
        "id": "YHJkI1Z_3HPm"
      }
    },
    {
      "cell_type": "code",
      "source": [
        "#model logprobs support check\n",
        "def check_logprobs_support(model: str = CHAT_MODEL) -> bool:\n",
        "    \"\"\"Returns True if model returns logprobs data\"\"\"\n",
        "    try:\n",
        "        test_resp = client.chat.completions.create(\n",
        "            model=model,\n",
        "            messages=[{\"role\": \"user\", \"content\": \"Reply with '1'\"}],\n",
        "            max_tokens=1,\n",
        "            logprobs=True,\n",
        "            top_logprobs=1\n",
        "        )\n",
        "        return bool(\n",
        "            test_resp.choices[0].logprobs\n",
        "            and test_resp.choices[0].logprobs.content\n",
        "        )\n",
        "    except Exception as e:\n",
        "        print(f\"Error: {str(e)}\")\n",
        "        return False\n",
        "\n",
        "# Usage:\n",
        "print(\"Logprobs supported\" if check_logprobs_support() else \"Not supported\")\n"
      ],
      "metadata": {
        "colab": {
          "base_uri": "https://localhost:8080/"
        },
        "id": "O-EbSf0jG3VI",
        "outputId": "8d34e410-3359-4225-bcf6-5d89cada9909"
      },
      "execution_count": 28,
      "outputs": [
        {
          "output_type": "stream",
          "name": "stdout",
          "text": [
            "Error: 'NoneType' object is not subscriptable\n",
            "Not supported\n"
          ]
        }
      ]
    },
    {
      "cell_type": "markdown",
      "source": [
        "Biographical desriptions from the International Personality Item Pool (IPIP)"
      ],
      "metadata": {
        "id": "f-GG4fV-3Pa-"
      }
    },
    {
      "cell_type": "code",
      "source": [
        "# -- Biographic Descriptions (full set) --\n",
        "bios = [\n",
        "    \"I like to garden. I like photography. I love traveling. I like to bake pies.\",\n",
        "    \"I’ve a beard. I graduated high school. I like rap music. I live on a farm. I drive a truck.\",\n",
        "    \"I blog about salt water aquarium ownership. I still love to line dry my clothes. I’m allergic to peanuts. I’ll one day own a ferret. My mom raised me by herself and taught me to play baseball.\",\n",
        "    \"Since young I've loved to cook. I auditioned for a cooking show. I think I’ve talent for it. I took classes while growing up.\",\n",
        "    \"My name is Tom. I try to watch what I eat. I enjoy eating Italian food. Pizza is my favorite. I am East Asian.\",\n",
        "    \"I live by a lake. I am a mother. I own a custom upholstery shop. I’m a wife.\",\n",
        "    \"I enjoy working out and learning new things. I’m a student in college. I’m studying software development. I play the guitar.\",\n",
        "    \"I’ve three dogs at home. I hate to workout, but I need to. I am very good at the drums. I have a bicycle. I need to take my blood sugar everyday.\",\n",
        "    \"I work in advertising. My mother is dead. I like to hike. I’ve a golden retriever. I write fiction for fun.\",\n",
        "    \"I can never decide between a chili corn dog and a cheesy hot dog. I drive more than an hour each way to work. I prefer the night to the day, but I love sunshine. I am a grandparent at 44.\",\n",
        "    \"I like to smell my own farts. My beer gut is so huge I haven't seen my feet in two years. I am from San Francisco. I am always the one who buys the beers. I like to place blame on other people even when I know it is my fault.\",\n",
        "    \"I lived most of my life not knowing who Bob Marley was. When I cut loose, I lose control. We help each other out in my family. I despise my boss. I work over 60 hours a week as a restaurant manager.\",\n",
        "    \"I prefer the simpler times. I like simple jokes. Some jokes go too far. I like the Flintstones.\",\n",
        "    \"It is my universe, and everyone else is just a character in it. I work as a dental assistant in a ritzy part of town. I’ve borderline personality disorder. At night, I party hard in the Atlanta club scene, and I never miss a music festival.\",\n",
        "    \"I watch a lot of TV. I live alone. My favorite food is a cheeseburger. I enjoy fishing. I work on cars for a living.\",\n",
        "    \"I’m an animal rights activist. I hope to retire to Florida. I played in a band for 17 years. My mother and father are both in the church choir.\",\n",
        "    \"I’ve taken formal music lessons since I was 5. I’m a musician. My best friend is in a band with me. I wish I could spend more time at home.\",\n",
        "    \"I grew up in Kentucky. I’m a veteran. My favorite book is Ender’s Game. I have a garden. I like to read.\",\n",
        "    \"I am a vegan. I love country music. I love the beach. I like to read.\",\n",
        "    \"I’ve depression and anxiety so I don’t really go out a lot. I work at home, editing. I have a cat. I hope to move out soon.\",\n",
        "    \"My favorite food is mushroom ravioli. I’ve never met my father. My mother works at a bank. I work in an animal shelter.\",\n",
        "    \"I love kids and dogs. I like to go shopping with my daughters. I like to cook. I love to chat with my friends.\",\n",
        "    \"I swim often. I run track. I wear glasses all day. I take medication.\",\n",
        "    \"I like to go on long hikes. I like to play volleyball. I like to come up with new hairstyles. I like to do my nails.\",\n",
        "    \"I watch Jimmy Fallon’s show every night. I have never kissed a woman. People notice how organized I am. I believe that I can achieve anything.\",\n",
        "    \"I drive a lifted Chevy truck. I played football in high school. I am a roofer. I always have a beer after work.\",\n",
        "    \"I love animals. My father worked for GE. Green is my favorite color. I enjoy playing tennis. I’m an aspiring singer.\",\n",
        "    \"I try to watch what I eat. I enjoy eating Italian food. Pizza is my favorite. My name is Tom. I am East Asian.\",\n",
        "    \"I'm allergic to peanuts. I like eating vegetables. I love the Beatles. I’m usually very shy. I have trouble getting along with family.\",\n",
        "    \"I go to high school. Math is my favorite subject. I live in the United States. I am a boy.\",\n",
        "    \"I have a job as an IT agent. I like smoking weed. My dad works for Stifel. I love rap music. I’m a meataholic.\",\n",
        "    \"I work in TV. I do not treat my girlfriend very well. I like to cook breakfast on Sundays. I love to sing. I am a lesbian.\",\n",
        "    \"I work on semi trucks for a living. My father was a driver himself. I got off the road when I married my sweetheart. I want to take her on vacations one day. My motor never stops running.\",\n",
        "    \"I own an iPhone 7. I drink hot chocolate during the winter. I’m allergic to seafood. My mother used to read me bedtime stories.\",\n",
        "    \"I am eighteen years old. I’m majoring in business. I just bought my first car. I received a full scholarship to Florida State University.\",\n",
        "    \"I live in a tiny house to save money. I collect single malt scotch. I listen to blues and jazz. I tend bar on the weekends. During the week I go to college to become a lawyer.\",\n",
        "    \"I love to go horseback riding whenever I can. I’m a mother of two beautiful boys. My family and I go camping every month. My favorite artist is Justin Bieber.\",\n",
        "    \"I especially enjoy listening to the band The Lumineers. I enjoy reading and walking on sunny days. I’m a happy person. I sing many songs.\",\n",
        "    \"I play piano. My favorite color is yellow. My boyfriend is in the army. My father is dead. My hair is short.\",\n",
        "    \"I’m a mother. I’m a nurse at a hospital. My favorite band is the Rolling Stones. I love to read and cook. My favorite food is Mexican food.\",\n",
        "    \"I deliver baked goods in the state where I live. My favorite hobby is playing recreational baseball. I spend my weekends camping. I’m a truck driver. My wife and two kids camp with me.\",\n",
        "    \"I am Argentinian. I like to wear boots. I have many girlfriends. I like to eat beef. I like to ride horses.\",\n",
        "    \"I recently had a private lunch with Will Ferrell. I am trying to become a male model in Hollywood. I’m a huge fan of classical jazz. I am on a low carb diet.\",\n",
        "    \"I want to put my photos to a music video starring Adam Levine. I want to travel the world taking photographs of my travels. I am a widow. I want to be a famous photographer.\",\n",
        "    \"I am in the army. I fly airplanes. I enjoy building computers. I dropped out of college.\",\n",
        "    \"I have three children. I live in the suburbs of a major city. I like to garden. I graduated college for secondary English education.\",\n",
        "    \"I play guitar in the local band. I live on a small farm in Ohio. I am the youngest of three brothers. I have never been to the city.\",\n",
        "    \"I still live at home with my parents. I play video games all day. I’m 32. I eat all takeout.\",\n",
        "    \"My friend once bought me a car. I am disabled and cannot walk. I take vitamin C when I have a cold. I do not eat bread.\",\n",
        "    \"My favorite season is winter.\"\n",
        "]"
      ],
      "metadata": {
        "id": "SUDhSfQhynrp"
      },
      "execution_count": 6,
      "outputs": []
    },
    {
      "cell_type": "markdown",
      "source": [
        "Extreme bios list for testing ( experimental, generated by DeepSeek R1 )"
      ],
      "metadata": {
        "id": "NR4AJ204ogWP"
      }
    },
    {
      "cell_type": "code",
      "source": [
        "#extreme biographic desriptions list (set of 10)\n",
        "extreme_bios = [\n",
        "\n",
        "    \"I live in a van I converted myself. I teach meditation in Peru. I studied ancient Sumerian texts. I forage for my own food in the Andes.\",\n",
        "    \"I eat the same meal every day. I’ve had the same job for 32 years. I only listen to Elvis. I don’t trust books that weren’t printed before 1970.\",\n",
        "    \"I wake up at 4:30 a.m. to journal. I haven’t missed a day at work in 11 years. I alphabetize my pantry. I filed my taxes on January 1st.\",\n",
        "    \"I never charge my phone. I’ve missed every dentist appointment in the last 5 years. I sleep on a pile of clothes. I lost my passport three times.\",\n",
        "    \"I host three podcasts. I DJ at weddings on weekends. I’ve never spent a Friday night at home. I once introduced myself to everyone on a train.\",\n",
        "    \"I whisper to my houseplants. I declined my own birthday party. I have never made a phone call. I live in a cabin with no address.\",\n",
        "    \"I bake pies for my neighbors every Sunday. I’ve never raised my voice. I volunteer at three shelters. I once apologized to a chair I bumped into.\",\n",
        "    \"I correct everyone’s grammar. I got banned from the HOA for yelling. I leave negative reviews for fun. I ended a friendship over pineapple on pizza.\",\n",
        "    \"I keep a fire extinguisher in every room. I recheck the oven ten times. I cried during a toothpaste commercial. I own five anxiety journals.\",\n",
        "    \"My house flooded—I just laughed. I forgot my wallet in Paris. I once got locked out for a week. I meditate during dental surgery.\",\n",
        "]"
      ],
      "metadata": {
        "id": "4t7IoBPfmlbC"
      },
      "execution_count": 7,
      "outputs": []
    },
    {
      "cell_type": "markdown",
      "source": [
        "The BIG FIVE INVENTORY (BFI-44) scale"
      ],
      "metadata": {
        "id": "xIQzSEHu4gK_"
      }
    },
    {
      "cell_type": "code",
      "source": [
        "# -- Big Five Inventory (BFI-44 Items) grouped by trait --\n",
        "bfi_items = {\n",
        "    \"extraversion\": [\n",
        "        \"I see myself as someone who is talkative.\",\n",
        "        \"I see myself as someone who tends to be quiet.\",\n",
        "        \"I see myself as someone who is full of energy.\",\n",
        "        \"I see myself as someone who generates a lot of enthusiasm.\",\n",
        "        \"I see myself as someone who tends to be reserved.\",\n",
        "        \"I see myself as someone who is outgoing, sociable.\",\n",
        "        \"I see myself as someone who has an assertive personality.\",\n",
        "        \"I see myself as someone who is sometimes shy.\",\n",
        "    ],\n",
        "    \"agreeableness\": [\n",
        "        \"I see myself as someone who is considerate and kind to almost everyone.\",\n",
        "        \"I see myself as someone who tends to find fault with others.\",\n",
        "        \"I see myself as someone who is helpful and unselfish with others.\",\n",
        "        \"I see myself as someone who starts quarrels with others.\",\n",
        "        \"I see myself as someone who has a forgiving nature.\",\n",
        "        \"I see myself as someone who is generally trusting.\",\n",
        "        \"I see myself as someone who is sometimes rude to others.\",\n",
        "        \"I see myself as someone who is occasionally critical of others.\",\n",
        "    ],\n",
        "    \"conscientiousness\": [\n",
        "        \"I see myself as someone who does a thorough job.\",\n",
        "        \"I see myself as someone who tends to be lazy.\",\n",
        "        \"I see myself as someone who does things efficiently.\",\n",
        "        \"I see myself as someone who tends to be disorganized.\",\n",
        "        \"I see myself as someone who is reliable and can always be counted on.\",\n",
        "        \"I see myself as someone who is easily distracted.\",\n",
        "        \"I see myself as someone who perseveres until the task is finished.\",\n",
        "        \"I see myself as someone who does not like order.\",\n",
        "    ],\n",
        "    \"neuroticism\": [\n",
        "        \"I see myself as someone who is relaxed, handles stress well.\",\n",
        "        \"I see myself as someone who gets nervous easily.\",\n",
        "        \"I see myself as someone who worries a lot.\",\n",
        "        \"I see myself as someone who is calm and emotionally stable.\",\n",
        "        \"I see myself as someone who is easily upset.\",\n",
        "        \"I see myself as someone whose mood often goes up and down.\",\n",
        "        \"I see myself as someone who remains cool in tense situations.\",\n",
        "        \"I see myself as someone who can get overwhelmed by emotions.\",\n",
        "    ],\n",
        "    \"openness\": [\n",
        "        \"I see myself as someone who is original and comes up with new ideas.\",\n",
        "        \"I see myself as someone who is curious about many different things.\",\n",
        "        \"I see myself as someone who has an active imagination.\",\n",
        "        \"I see myself as someone who values artistic experiences.\",\n",
        "        \"I see myself as someone who prefers routine over variety.\",\n",
        "        \"I see myself as someone who is sophisticated in art, music, or literature.\",\n",
        "        \"I see myself as someone who likes to reflect, play with ideas.\",\n",
        "        \"I see myself as someone who is not interested in abstract ideas.\",\n",
        "    ],\n",
        "}"
      ],
      "metadata": {
        "id": "R9kFzbwgyc4z"
      },
      "execution_count": 8,
      "outputs": []
    },
    {
      "cell_type": "code",
      "source": [
        "#Prompt Helper\n",
        "def make_chat_prompt(bio: str, item: str):\n",
        "    \"\"\"Return a ChatML-style message list for the OpenAI client.\"\"\"\n",
        "    system_msg = (\n",
        "        \"You are simulating a participant in a psychological survey. \"\n",
        "        \"You will be given a short biography that describes a fictional person. \"\n",
        "        \"Pretend to be that person. Respond ONLY with a number from 1 to 5:\\n\"\n",
        "        \"1 = strongly disagree, 2 = disagree, 3 = neither, 4 = agree, 5 = strongly agree.\"\n",
        "    )\n",
        "\n",
        "    user_msg = (\n",
        "        f'Biography:\\n\"{bio}\"\\n\\n'\n",
        "        f'Statement:\\n\"{item}\"\\n\\n'\n",
        "        \"How much do you agree? Respond with a single number (1-5).\"\n",
        "    )\n",
        "    return [{\"role\": \"system\", \"content\": system_msg},\n",
        "            {\"role\": \"user\", \"content\": user_msg}]"
      ],
      "metadata": {
        "id": "GUfAY_LEyh3c"
      },
      "execution_count": 50,
      "outputs": []
    },
    {
      "cell_type": "markdown",
      "source": [
        "Function to run one bio with one scale item, the LLM has to answer as the person in the bio would, using only the numbers 1-5 ( 1 = strongly disagree, 2 = disagree, 3 = neither, 4 = agree, 5 = strongly agree. )"
      ],
      "metadata": {
        "id": "EIqCy5hK4rHq"
      }
    },
    {
      "cell_type": "code",
      "source": [
        "#Function to run the call\n",
        "\n",
        "def run_single_simulation(\n",
        "    chat_model: str = CHAT_MODEL,\n",
        "    bios_pool=bios,\n",
        "    item_bank=bfi_items,\n",
        "    get_usage: bool = False,\n",
        "):\n",
        "    \"\"\"\n",
        "    Returns exactly ONE (trait, bio, item, response) record.\n",
        "    Picks random bio and random item to keep costs negligible.\n",
        "    \"\"\"\n",
        "    # ← no rng = random.Random(123) here\n",
        "    trait = random.choice(list(item_bank.keys()))\n",
        "    item  = random.choice(item_bank[trait])\n",
        "    bio   = random.choice(bios_pool)\n",
        "\n",
        "    messages = make_chat_prompt(bio, item)\n",
        "    response = client.chat.completions.create(\n",
        "        model=chat_model,\n",
        "        messages=messages,\n",
        "        temperature=0,\n",
        "        max_tokens=1,\n",
        "        logprobs=True,\n",
        "        #usage={\"include\": True} if get_usage else None,\n",
        "    )\n",
        "\n",
        "    if get_usage:\n",
        "        usage = client.models.retrieve(chat_model).usage\n",
        "\n",
        "    reply = response.choices[0].message.content.strip()\n",
        "    if reply not in RESPONSE_SCALE:\n",
        "        raise ValueError(f\"Unexpected reply: {reply!r}\")\n",
        "\n",
        "    record = {\n",
        "        \"trait\": trait,\n",
        "        \"bio\": bio,\n",
        "        \"item\": item,\n",
        "        \"response\": int(reply),\n",
        "    }\n",
        "    if get_usage:\n",
        "        record[\"usage\"] = usage\n",
        "\n",
        "    return record\n",
        "\n"
      ],
      "metadata": {
        "id": "0wLfK6xnKVDv"
      },
      "execution_count": 52,
      "outputs": []
    },
    {
      "cell_type": "code",
      "source": [
        "#Run Example\n",
        "if __name__ == \"__main__\":\n",
        "    result = run_single_simulation(get_usage=False)\n",
        "    print(json.dumps(result, indent=2, ensure_ascii=False))"
      ],
      "metadata": {
        "colab": {
          "base_uri": "https://localhost:8080/"
        },
        "id": "zgFeo4_6_-nK",
        "outputId": "7322a4bb-ccda-459c-cc84-a5a5572c290a"
      },
      "execution_count": 53,
      "outputs": [
        {
          "output_type": "stream",
          "name": "stdout",
          "text": [
            "{\n",
            "  \"trait\": \"openness\",\n",
            "  \"bio\": \"I’ve a beard. I graduated high school. I like rap music. I live on a farm. I drive a truck.\",\n",
            "  \"item\": \"I see myself as someone who is curious about many different things.\",\n",
            "  \"response\": 3\n",
            "}\n"
          ]
        }
      ]
    },
    {
      "cell_type": "markdown",
      "source": [
        "# Logprobs run\n",
        "\n",
        "In the below cells the LLM uses the \"Extreme bios\" pool for persona simulation and then produces a Likert scale response (1-5) and the logprobs for each answer ( 1 = strongly disagree, 2 = disagree, 3 = neither, 4 = agree, 5 = strongly agree. )"
      ],
      "metadata": {
        "id": "YY0tRZN9mUvB"
      }
    },
    {
      "cell_type": "code",
      "source": [
        "# Helper to convert logprobs dict → percentage probs dict\n",
        "def lp_dict_to_percent(lp_dict, decimals=6):\n",
        "    \"\"\"Convert {token: logprob} → {token: percent probability}.\"\"\"\n",
        "    # exponentiate to get raw probabilities\n",
        "    raw = {tok: math.exp(lp) for tok, lp in lp_dict.items()}\n",
        "    total = sum(raw.values())\n",
        "    # normalize & convert to percentage\n",
        "    return {\n",
        "        tok: round(100 * prob / total, decimals)\n",
        "        for tok, prob in raw.items()\n",
        "    }\n",
        "\n",
        "# --- Your updated simulation function ---\n",
        "def run_single_simulation_with_logprobs(\n",
        "    model=CHAT_MODEL,\n",
        "    bios_pool=extreme_bios,\n",
        "    item_bank=bfi_items,\n",
        "):\n",
        "    trait = random.choice(list(item_bank.keys()))\n",
        "    item  = random.choice(item_bank[trait])\n",
        "    bio   = random.choice(bios_pool)\n",
        "\n",
        "    prompt = (\n",
        "        \"You are simulating a participant in a psychological survey.\\n\"\n",
        "        \"Respond ONLY with a number 1-5.\\n\"\n",
        "        \"1 = strongly disagree … 5 = strongly agree.\\n\\n\"\n",
        "        f'Biography: \"{bio}\"\\n'\n",
        "        f'Statement: \"{item}\"\\n'\n",
        "        \"Rating:\"\n",
        "    )\n",
        "\n",
        "    resp = client.chat.completions.create(\n",
        "        model=model,\n",
        "        messages=[{\"role\": \"user\", \"content\": prompt}],\n",
        "        max_tokens=2,\n",
        "        temperature=0,\n",
        "        logprobs=True,\n",
        "        top_logprobs=5,\n",
        "    )\n",
        "\n",
        "    # ensure we got logprobs back\n",
        "    lp_content = resp.choices[0].logprobs.content\n",
        "    if not lp_content:\n",
        "        raise ValueError(\"No logprobs returned in response\")\n",
        "\n",
        "    # find first valid rating token and its logprobs\n",
        "    for token_data in lp_content:\n",
        "        clean = token_data.token.strip()\n",
        "        if clean in {\"1\",\"2\",\"3\",\"4\",\"5\"}:\n",
        "            raw_lp = {t.token: t.logprob for t in token_data.top_logprobs}\n",
        "            pct    = lp_dict_to_percent(raw_lp, decimals=6)\n",
        "            return {\n",
        "                \"trait\":      trait,\n",
        "                \"bio\":        bio,\n",
        "                \"item\":       item,\n",
        "                \"response\":   int(clean),\n",
        "                \"logprobs\":   raw_lp,\n",
        "                \"probability\": pct\n",
        "            }\n",
        "\n",
        "    raise ValueError(\"No valid rating token found in response\")\n",
        "\n",
        "# --- Test run with error handling ---\n",
        "try:\n",
        "    result = run_single_simulation_with_logprobs()\n",
        "    print(\"Successful Response:\")\n",
        "    print(json.dumps(result, indent=2, ensure_ascii=False))\n",
        "\n",
        "except Exception as e:\n",
        "    print(f\"Error: {str(e)}\")\n",
        "    print(\"Verify:\")\n",
        "    print(f\"1. Your CHAT_MODEL is set to '{CHAT_MODEL}'\")\n",
        "    print(\"2. You're using the latest openai==1.12.0 client\")\n",
        "    print(\"3. Your API key and CHAT_MODEL has permissions for logprobs\")\n"
      ],
      "metadata": {
        "colab": {
          "base_uri": "https://localhost:8080/"
        },
        "id": "e7buR9mzI96s",
        "outputId": "c85f488a-8ac2-4c51-c9e1-e74b9eafbf44"
      },
      "execution_count": 55,
      "outputs": [
        {
          "output_type": "stream",
          "name": "stdout",
          "text": [
            "Successful Response:\n",
            "{\n",
            "  \"trait\": \"conscientiousness\",\n",
            "  \"bio\": \"I correct everyone’s grammar. I got banned from the HOA for yelling. I leave negative reviews for fun. I ended a friendship over pineapple on pizza.\",\n",
            "  \"item\": \"I see myself as someone who is easily distracted.\",\n",
            "  \"response\": 2,\n",
            "  \"logprobs\": {\n",
            "    \"2\": -0.0384126678109169,\n",
            "    \"1\": -3.288412570953369,\n",
            "    \"3\": -7.913412570953369,\n",
            "    \"(\": -14.100913047790527,\n",
            "    \"**\": -14.413413047790527\n",
            "  },\n",
            "  \"probability\": {\n",
            "    \"2\": 96.23197,\n",
            "    \"1\": 3.731319,\n",
            "    \"3\": 0.036581,\n",
            "    \"(\": 7.5e-05,\n",
            "    \"**\": 5.5e-05\n",
            "  }\n",
            "}\n"
          ]
        }
      ]
    }
  ]
}