{
  "nbformat": 4,
  "nbformat_minor": 0,
  "metadata": {
    "colab": {
      "provenance": [],
      "authorship_tag": "ABX9TyPVn6xPjBaprihsB8T7/X8P",
      "include_colab_link": true
    },
    "kernelspec": {
      "name": "python3",
      "display_name": "Python 3"
    },
    "language_info": {
      "name": "python"
    }
  },
  "cells": [
    {
      "cell_type": "markdown",
      "metadata": {
        "id": "view-in-github",
        "colab_type": "text"
      },
      "source": [
        "<a href=\"https://colab.research.google.com/github/jgbrenner/psychometrics/blob/main/PsychometricsC9_BTPS.ipynb\" target=\"_parent\"><img src=\"https://colab.research.google.com/assets/colab-badge.svg\" alt=\"Open In Colab\"/></a>"
      ]
    },
    {
      "cell_type": "code",
      "execution_count": 1,
      "metadata": {
        "colab": {
          "base_uri": "https://localhost:8080/"
        },
        "id": "Uax9wdSFHs7W",
        "outputId": "617e9f54-92c8-4cf0-fb64-90ad784d80ac"
      },
      "outputs": [
        {
          "output_type": "stream",
          "name": "stdout",
          "text": [
            "Requirement already satisfied: openai in /usr/local/lib/python3.10/dist-packages (1.54.4)\n",
            "Requirement already satisfied: rpy2 in /usr/local/lib/python3.10/dist-packages (3.4.2)\n",
            "Requirement already satisfied: anyio<5,>=3.5.0 in /usr/local/lib/python3.10/dist-packages (from openai) (3.7.1)\n",
            "Requirement already satisfied: distro<2,>=1.7.0 in /usr/local/lib/python3.10/dist-packages (from openai) (1.9.0)\n",
            "Requirement already satisfied: httpx<1,>=0.23.0 in /usr/local/lib/python3.10/dist-packages (from openai) (0.27.2)\n",
            "Requirement already satisfied: jiter<1,>=0.4.0 in /usr/local/lib/python3.10/dist-packages (from openai) (0.7.1)\n",
            "Requirement already satisfied: pydantic<3,>=1.9.0 in /usr/local/lib/python3.10/dist-packages (from openai) (2.9.2)\n",
            "Requirement already satisfied: sniffio in /usr/local/lib/python3.10/dist-packages (from openai) (1.3.1)\n",
            "Requirement already satisfied: tqdm>4 in /usr/local/lib/python3.10/dist-packages (from openai) (4.66.6)\n",
            "Requirement already satisfied: typing-extensions<5,>=4.11 in /usr/local/lib/python3.10/dist-packages (from openai) (4.12.2)\n",
            "Requirement already satisfied: cffi>=1.10.0 in /usr/local/lib/python3.10/dist-packages (from rpy2) (1.17.1)\n",
            "Requirement already satisfied: jinja2 in /usr/local/lib/python3.10/dist-packages (from rpy2) (3.1.4)\n",
            "Requirement already satisfied: pytz in /usr/local/lib/python3.10/dist-packages (from rpy2) (2024.2)\n",
            "Requirement already satisfied: tzlocal in /usr/local/lib/python3.10/dist-packages (from rpy2) (5.2)\n",
            "Requirement already satisfied: idna>=2.8 in /usr/local/lib/python3.10/dist-packages (from anyio<5,>=3.5.0->openai) (3.10)\n",
            "Requirement already satisfied: exceptiongroup in /usr/local/lib/python3.10/dist-packages (from anyio<5,>=3.5.0->openai) (1.2.2)\n",
            "Requirement already satisfied: pycparser in /usr/local/lib/python3.10/dist-packages (from cffi>=1.10.0->rpy2) (2.22)\n",
            "Requirement already satisfied: certifi in /usr/local/lib/python3.10/dist-packages (from httpx<1,>=0.23.0->openai) (2024.8.30)\n",
            "Requirement already satisfied: httpcore==1.* in /usr/local/lib/python3.10/dist-packages (from httpx<1,>=0.23.0->openai) (1.0.7)\n",
            "Requirement already satisfied: h11<0.15,>=0.13 in /usr/local/lib/python3.10/dist-packages (from httpcore==1.*->httpx<1,>=0.23.0->openai) (0.14.0)\n",
            "Requirement already satisfied: annotated-types>=0.6.0 in /usr/local/lib/python3.10/dist-packages (from pydantic<3,>=1.9.0->openai) (0.7.0)\n",
            "Requirement already satisfied: pydantic-core==2.23.4 in /usr/local/lib/python3.10/dist-packages (from pydantic<3,>=1.9.0->openai) (2.23.4)\n",
            "Requirement already satisfied: MarkupSafe>=2.0 in /usr/local/lib/python3.10/dist-packages (from jinja2->rpy2) (3.0.2)\n"
          ]
        }
      ],
      "source": [
        "# Install necessary Python packages\n",
        "!pip install openai rpy2"
      ]
    },
    {
      "cell_type": "code",
      "source": [
        "# Import necessary Python libraries\n",
        "import os\n",
        "import openai\n",
        "import pandas as pd\n",
        "import numpy as np\n",
        "import json\n",
        "import requests\n",
        "import re\n",
        "from google.colab import drive, userdata"
      ],
      "metadata": {
        "id": "60fduFzfH5bB"
      },
      "execution_count": 2,
      "outputs": []
    },
    {
      "cell_type": "code",
      "source": [
        "# Mount Google Drive\n",
        "drive.mount('/content/drive', force_remount=True)"
      ],
      "metadata": {
        "colab": {
          "base_uri": "https://localhost:8080/"
        },
        "id": "hSRRhohTID2z",
        "outputId": "17895599-78ff-4601-c756-5ff217148e02"
      },
      "execution_count": 3,
      "outputs": [
        {
          "output_type": "stream",
          "name": "stdout",
          "text": [
            "Mounted at /content/drive\n"
          ]
        }
      ]
    },
    {
      "cell_type": "code",
      "source": [
        "# Define the path where the R library will be saved in Google Drive\n",
        "library_path = '/content/drive/MyDrive/R_libraries'\n",
        "\n",
        "# Create the directory if it doesn't exist\n",
        "if not os.path.exists(library_path):\n",
        "    os.makedirs(library_path)"
      ],
      "metadata": {
        "id": "KBVFbbWsIQy9"
      },
      "execution_count": 4,
      "outputs": []
    },
    {
      "cell_type": "code",
      "source": [
        "# Verify rpy2 version\n",
        "import rpy2\n",
        "print(f\"rpy2 version: {rpy2.__version__}\")\n"
      ],
      "metadata": {
        "colab": {
          "base_uri": "https://localhost:8080/"
        },
        "id": "e39gvro-ISqs",
        "outputId": "1c359647-eddc-4189-bf6c-80ee12eb035f"
      },
      "execution_count": 5,
      "outputs": [
        {
          "output_type": "stream",
          "name": "stdout",
          "text": [
            "rpy2 version: 3.4.2\n"
          ]
        }
      ]
    },
    {
      "cell_type": "code",
      "source": [
        "\n",
        "\n",
        "# Set up R environment\n",
        "from rpy2.robjects import r\n",
        "\n",
        "# Set the library path in R\n",
        "r(f'''\n",
        "library_path <- \"{library_path}\"\n",
        ".libPaths(c(library_path, .libPaths()))\n",
        "''')\n",
        "\n",
        "# Install and load required R packages\n",
        "required_packages = [\n",
        "    \"reticulate\",\n",
        "    \"dplyr\",\n",
        "    \"stringr\",\n",
        "    \"readr\",\n",
        "    \"EGAnet\"\n",
        "]\n",
        "\n",
        "for pkg in required_packages:\n",
        "    r(f'''\n",
        "    if (!requireNamespace(\"{pkg}\", quietly = TRUE)) {{\n",
        "        install.packages(\"{pkg}\", lib = \"{library_path}\", repos = \"https://cran.rstudio.com/\", dependencies = TRUE)\n",
        "    }}\n",
        "    library(\"{pkg}\", character.only = TRUE)\n",
        "    ''')\n"
      ],
      "metadata": {
        "colab": {
          "base_uri": "https://localhost:8080/"
        },
        "id": "uu0SzKi0IZWT",
        "outputId": "212c5b91-98cd-4271-f629-224dac010449"
      },
      "execution_count": 7,
      "outputs": [
        {
          "output_type": "stream",
          "name": "stderr",
          "text": [
            "WARNING:rpy2.rinterface_lib.callbacks:R[write to console]: \u001b[1;m\u001b[4;m\n",
            "EGAnet (version 2.1.0)\u001b[0m\u001b[0m \n",
            "\n",
            "For help getting started, see <https://r-ega.net> \n",
            "\n",
            "For bugs and errors, submit an issue to <https://github.com/hfgolino/EGAnet/issues>\n",
            "\n"
          ]
        }
      ]
    },
    {
      "cell_type": "code",
      "source": [
        "# Fetching the OpenAI API key from Colab secrets\n",
        "openai_api_key = userdata.get('OPENAI_API_KEY')\n",
        "if openai_api_key:\n",
        "    os.environ[\"OPENAI_API_KEY\"] = openai_api_key\n",
        "else:\n",
        "    raise ValueError(\"OPENAI_API_KEY is not set or invalid.\")\n",
        "\n",
        "# Import OpenAI Client\n",
        "from openai import Client\n",
        "client = Client()"
      ],
      "metadata": {
        "id": "vF8-Q-gmP-bW"
      },
      "execution_count": 8,
      "outputs": []
    },
    {
      "cell_type": "markdown",
      "source": [
        "# 1. **Generate Scale Items Using OpenAI API**"
      ],
      "metadata": {
        "id": "Nh4UcDMHRTWM"
      }
    },
    {
      "cell_type": "code",
      "source": [
        "messages = [\n",
        "    {\n",
        "        \"role\": \"system\",\n",
        "        \"content\": \"Jesteś ekspertem w psychometrii, który tworzy pytania testowe.\"\n",
        "    },\n",
        "    {\n",
        "        \"role\": \"user\",\n",
        "        \"content\": (\n",
        "            \"Wygeneruj po 3 stwierdzenia dla każdego z następujących konstruktów: \"\n",
        "            \"Perfekcjonizm skierowany na siebie: Tendencja do wymagania doskonałości od siebie samego, \"\n",
        "            \"Perfekcjonizm skierowany na innych: Stawianie wysokich oczekiwań wobec innych i krytyczna ocena ich osiągnięć, \"\n",
        "            \"Perfekcjonizm społecznie narzucony: Przekonanie, że inni oczekują od nas doskonałości. \"\n",
        "            \"Niech stwierdzenia będą zwięzłe i jasne,  odpowiednie do oceny w skali Likerta. \"\n",
        "            \"Provide the output ONLY in JSON format as a list of dictionaries, \"\n",
        "            \"without any additional text or explanation. \"\n",
        "            \"Each dictionary should have keys 'construct' and 'item'.\"\n",
        "        )\n",
        "    }\n",
        "]\n",
        "\n",
        "try:\n",
        "    completion = client.chat.completions.create(\n",
        "        model=\"gpt-4o-mini\",\n",
        "        messages=messages,\n",
        "        temperature=0.7,\n",
        "        max_tokens=8048,\n",
        "        top_p=1,\n",
        "        stream=False\n",
        "    )\n",
        "    response_content = completion.choices[0].message.content\n",
        "    print(\"\\nGenerated Items:\\n\", response_content)\n",
        "except Exception as e:\n",
        "    print(f\"An error occurred: {e}\")\n",
        "    response_content = \"\""
      ],
      "metadata": {
        "colab": {
          "base_uri": "https://localhost:8080/"
        },
        "id": "pNzcbSHyROVF",
        "outputId": "6e96eb35-b390-4adf-b7e1-d31f2b497520"
      },
      "execution_count": 9,
      "outputs": [
        {
          "output_type": "stream",
          "name": "stdout",
          "text": [
            "\n",
            "Generated Items:\n",
            " ```json\n",
            "[\n",
            "    {\"construct\": \"Perfekcjonizm skierowany na siebie\", \"item\": \"Czuję, że muszę być doskonały w każdej dziedzinie swojego życia.\"},\n",
            "    {\"construct\": \"Perfekcjonizm skierowany na siebie\", \"item\": \"Często czuję się niezadowolony z własnych osiągnięć.\"},\n",
            "    {\"construct\": \"Perfekcjonizm skierowany na siebie\", \"item\": \"Uważam, że moje błędy są nie do przyjęcia.\"},\n",
            "    {\"construct\": \"Perfekcjonizm skierowany na innych\", \"item\": \"Oczekuję od innych, że będą osiągać najwyższe wyniki.\"},\n",
            "    {\"construct\": \"Perfekcjonizm skierowany na innych\", \"item\": \"Często krytycznie oceniam osiągnięcia innych ludzi.\"},\n",
            "    {\"construct\": \"Perfekcjonizm skierowany na innych\", \"item\": \"Uważam, że inni powinni dążyć do perfekcji tak samo jak ja.\"},\n",
            "    {\"construct\": \"Perfekcjonizm społecznie narzucony\", \"item\": \"Czuję presję, aby spełniać oczekiwania innych dotyczące doskonałości.\"},\n",
            "    {\"construct\": \"Perfekcjonizm społecznie narzucony\", \"item\": \"Myślę, że inni oczekują ode mnie idealnych wyników w każdej sytuacji.\"},\n",
            "    {\"construct\": \"Perfekcjonizm społecznie narzucony\", \"item\": \"Obawiam się, że nie będę akceptowany, jeśli nie będę doskonały.\"}\n",
            "]\n",
            "```\n"
          ]
        }
      ]
    },
    {
      "cell_type": "markdown",
      "source": [
        "# 2. **Parse and Validate Data with Fallback**"
      ],
      "metadata": {
        "id": "diLEy-y_RpXn"
      }
    },
    {
      "cell_type": "code",
      "source": [
        "try:\n",
        "    # Attempt to parse the response content directly\n",
        "    generated_items = json.loads(response_content)\n",
        "    items_df = pd.DataFrame(generated_items)\n",
        "except json.JSONDecodeError as e:\n",
        "    print(f\"JSON parsing failed: {e}\")\n",
        "    # Attempt to extract JSON-like content using regex\n",
        "    json_match = re.search(r'\\[.*\\]', response_content, re.DOTALL)  # Match JSON array\n",
        "    if json_match:\n",
        "        json_str = json_match.group(0)  # Extract the matched JSON-like content\n",
        "        print(\"Extracted JSON String:\")\n",
        "        print(json_str)\n",
        "        try:\n",
        "            # Attempt to parse the extracted string as JSON\n",
        "            generated_items = json.loads(json_str)\n",
        "            items_df = pd.DataFrame(generated_items)\n",
        "        except json.JSONDecodeError as e2:\n",
        "            print(f\"Second JSON decoding attempt failed: {e2}\")\n",
        "            items_df = None\n",
        "    else:\n",
        "        print(\"No valid JSON found in the response.\")\n",
        "        items_df = None"
      ],
      "metadata": {
        "colab": {
          "base_uri": "https://localhost:8080/"
        },
        "id": "Mubxfz_pRrVp",
        "outputId": "4951e14d-617c-46b3-9cde-1dc9634371fc"
      },
      "execution_count": 10,
      "outputs": [
        {
          "output_type": "stream",
          "name": "stdout",
          "text": [
            "JSON parsing failed: Expecting value: line 1 column 1 (char 0)\n",
            "Extracted JSON String:\n",
            "[\n",
            "    {\"construct\": \"Perfekcjonizm skierowany na siebie\", \"item\": \"Czuję, że muszę być doskonały w każdej dziedzinie swojego życia.\"},\n",
            "    {\"construct\": \"Perfekcjonizm skierowany na siebie\", \"item\": \"Często czuję się niezadowolony z własnych osiągnięć.\"},\n",
            "    {\"construct\": \"Perfekcjonizm skierowany na siebie\", \"item\": \"Uważam, że moje błędy są nie do przyjęcia.\"},\n",
            "    {\"construct\": \"Perfekcjonizm skierowany na innych\", \"item\": \"Oczekuję od innych, że będą osiągać najwyższe wyniki.\"},\n",
            "    {\"construct\": \"Perfekcjonizm skierowany na innych\", \"item\": \"Często krytycznie oceniam osiągnięcia innych ludzi.\"},\n",
            "    {\"construct\": \"Perfekcjonizm skierowany na innych\", \"item\": \"Uważam, że inni powinni dążyć do perfekcji tak samo jak ja.\"},\n",
            "    {\"construct\": \"Perfekcjonizm społecznie narzucony\", \"item\": \"Czuję presję, aby spełniać oczekiwania innych dotyczące doskonałości.\"},\n",
            "    {\"construct\": \"Perfekcjonizm społecznie narzucony\", \"item\": \"Myślę, że inni oczekują ode mnie idealnych wyników w każdej sytuacji.\"},\n",
            "    {\"construct\": \"Perfekcjonizm społecznie narzucony\", \"item\": \"Obawiam się, że nie będę akceptowany, jeśli nie będę doskonały.\"}\n",
            "]\n"
          ]
        }
      ]
    },
    {
      "cell_type": "code",
      "source": [
        "# Check if the DataFrame was successfully created\n",
        "if items_df is not None:\n",
        "    print(\"\\nInitial Items DataFrame:\")\n",
        "    print(items_df.head())\n",
        "else:\n",
        "    raise ValueError(\"Failed to parse JSON. Ensure the LLM response is valid.\")"
      ],
      "metadata": {
        "colab": {
          "base_uri": "https://localhost:8080/"
        },
        "id": "VSGKArRHR1Dk",
        "outputId": "de59cf2f-3405-457f-92a6-fab507bc7ee5"
      },
      "execution_count": 11,
      "outputs": [
        {
          "output_type": "stream",
          "name": "stdout",
          "text": [
            "\n",
            "Initial Items DataFrame:\n",
            "                            construct  \\\n",
            "0  Perfekcjonizm skierowany na siebie   \n",
            "1  Perfekcjonizm skierowany na siebie   \n",
            "2  Perfekcjonizm skierowany na siebie   \n",
            "3  Perfekcjonizm skierowany na innych   \n",
            "4  Perfekcjonizm skierowany na innych   \n",
            "\n",
            "                                                item  \n",
            "0  Czuję, że muszę być doskonały w każdej dziedzi...  \n",
            "1  Często czuję się niezadowolony z własnych osią...  \n",
            "2         Uważam, że moje błędy są nie do przyjęcia.  \n",
            "3  Oczekuję od innych, że będą osiągać najwyższe ...  \n",
            "4  Często krytycznie oceniam osiągnięcia innych l...  \n"
          ]
        }
      ]
    },
    {
      "cell_type": "code",
      "source": [
        "# Remove duplicates and empty rows\n",
        "items_df.drop_duplicates(inplace=True)\n",
        "items_df.dropna(inplace=True)\n",
        "items_df.reset_index(drop=True, inplace=True)\n",
        "\n",
        "# Map constructs to abbreviations\n",
        "construct_abbreviations = {\n",
        "    \"Perfekcjonizm skierowany na siebie\": \"PSS\",\n",
        "    \"Perfekcjonizm skierowany na innych\": \"PSI\",\n",
        "    \"Perfekcjonizm społecznie narzucony\": \"PSP\"\n",
        "}\n",
        "\n",
        "# Create descriptive unique labels for items\n",
        "items_df['item_label'] = items_df.apply(\n",
        "    lambda row: f\"{construct_abbreviations[row['construct']]}_{row.name+1}\", axis=1\n",
        ")\n",
        "\n",
        "# Inspect the cleaned DataFrame with improved labels\n",
        "print(\"\\nCleaned Items DataFrame with Improved Labels:\")\n",
        "print(items_df.head())"
      ],
      "metadata": {
        "colab": {
          "base_uri": "https://localhost:8080/"
        },
        "id": "qmFdo3YGR_wx",
        "outputId": "1bb67916-2e24-43dd-d391-9dcb7f04ed22"
      },
      "execution_count": 12,
      "outputs": [
        {
          "output_type": "stream",
          "name": "stdout",
          "text": [
            "\n",
            "Cleaned Items DataFrame with Improved Labels:\n",
            "                            construct  \\\n",
            "0  Perfekcjonizm skierowany na siebie   \n",
            "1  Perfekcjonizm skierowany na siebie   \n",
            "2  Perfekcjonizm skierowany na siebie   \n",
            "3  Perfekcjonizm skierowany na innych   \n",
            "4  Perfekcjonizm skierowany na innych   \n",
            "\n",
            "                                                item item_label  \n",
            "0  Czuję, że muszę być doskonały w każdej dziedzi...      PSS_1  \n",
            "1  Często czuję się niezadowolony z własnych osią...      PSS_2  \n",
            "2         Uważam, że moje błędy są nie do przyjęcia.      PSS_3  \n",
            "3  Oczekuję od innych, że będą osiągać najwyższe ...      PSI_4  \n",
            "4  Często krytycznie oceniam osiągnięcia innych l...      PSI_5  \n"
          ]
        }
      ]
    },
    {
      "cell_type": "code",
      "source": [
        "# Extract item texts for embedding\n",
        "item_texts = items_df['item'].tolist()\n",
        "\n",
        "# Set up the API endpoint and headers for OpenAI embeddings\n",
        "embedding_endpoint = \"https://api.openai.com/v1/embeddings\"\n",
        "embedding_model = \"text-embedding-3-small\"\n",
        "\n",
        "headers = {\n",
        "    \"Authorization\": f\"Bearer {os.environ['OPENAI_API_KEY']}\",\n",
        "    \"Content-Type\": \"application/json\"\n",
        "}\n",
        "\n",
        "# Prepare the data payload\n",
        "data = {\n",
        "    \"model\": embedding_model,\n",
        "    \"input\": item_texts\n",
        "}\n",
        "\n",
        "try:\n",
        "    response = requests.post(embedding_endpoint, headers=headers, json=data)\n",
        "    if response.status_code == 200:\n",
        "        response_data = response.json()\n",
        "        embeddings = [item['embedding'] for item in response_data['data']]\n",
        "        embeddings_array = np.array(embeddings)\n",
        "        print(f\"Embeddings generated successfully. Shape: {embeddings_array.shape}\")\n",
        "    else:\n",
        "        print(f\"Request failed with status code {response.status_code}: {response.text}\")\n",
        "        embeddings_array = None\n",
        "except Exception as e:\n",
        "    print(f\"An error occurred during embedding generation: {e}\")\n",
        "    embeddings_array = None\n",
        "\n",
        "# Check alignment between items and embeddings\n",
        "if embeddings_array is not None and embeddings_array.shape[0] != len(items_df):\n",
        "    print(f\"Embeddings count ({embeddings_array.shape[0]}) does not match items count ({len(items_df)}). Adjusting items_df.\")\n",
        "    items_df = items_df.iloc[:embeddings_array.shape[0]]\n",
        "    items_df.reset_index(drop=True, inplace=True)\n",
        "\n",
        "# Add embeddings back to DataFrame for inspection\n",
        "items_df['embedding'] = list(embeddings_array)\n",
        "print(\"\\nItems DataFrame with Embeddings:\")\n",
        "print(items_df.head())\n",
        "\n",
        "# Save DataFrame as CSV for inspection in R\n",
        "items_df.to_csv(\"psychometric_items_with_embeddings.csv\", index=False)\n",
        "\n",
        "# Save embeddings as a CSV file\n",
        "np.savetxt(\"embeddings.csv\", embeddings_array, delimiter=\",\")\n",
        "print(\"Embeddings saved as CSV.\")\n",
        "\n",
        "# Inspect saved file locations and sizes\n",
        "print(\"\\nSaved files:\")\n",
        "print(\"Items DataFrame (CSV):\", os.path.abspath(\"psychometric_items_with_embeddings.csv\"))\n",
        "print(\"Embeddings (CSV):\", os.path.abspath(\"embeddings.csv\"))"
      ],
      "metadata": {
        "colab": {
          "base_uri": "https://localhost:8080/"
        },
        "id": "kGwswVFgSICe",
        "outputId": "d300ba95-477f-4fea-8948-a68da36b2636"
      },
      "execution_count": 13,
      "outputs": [
        {
          "output_type": "stream",
          "name": "stdout",
          "text": [
            "Embeddings generated successfully. Shape: (9, 1536)\n",
            "\n",
            "Items DataFrame with Embeddings:\n",
            "                            construct  \\\n",
            "0  Perfekcjonizm skierowany na siebie   \n",
            "1  Perfekcjonizm skierowany na siebie   \n",
            "2  Perfekcjonizm skierowany na siebie   \n",
            "3  Perfekcjonizm skierowany na innych   \n",
            "4  Perfekcjonizm skierowany na innych   \n",
            "\n",
            "                                                item item_label  \\\n",
            "0  Czuję, że muszę być doskonały w każdej dziedzi...      PSS_1   \n",
            "1  Często czuję się niezadowolony z własnych osią...      PSS_2   \n",
            "2         Uważam, że moje błędy są nie do przyjęcia.      PSS_3   \n",
            "3  Oczekuję od innych, że będą osiągać najwyższe ...      PSI_4   \n",
            "4  Często krytycznie oceniam osiągnięcia innych l...      PSI_5   \n",
            "\n",
            "                                           embedding  \n",
            "0  [0.05987178, 0.022176193, -0.031097876, 0.0631...  \n",
            "1  [0.0336493, 0.018436313, -0.025339449, 0.02029...  \n",
            "2  [0.037936278, 0.035252683, -0.0049656676, 0.05...  \n",
            "3  [0.056001738, 0.006498609, 0.0067103994, 0.022...  \n",
            "4  [0.046192378, 0.017640749, -0.04017798, 0.0376...  \n",
            "Embeddings saved as CSV.\n",
            "\n",
            "Saved files:\n",
            "Items DataFrame (CSV): /content/psychometric_items_with_embeddings.csv\n",
            "Embeddings (CSV): /content/embeddings.csv\n"
          ]
        }
      ]
    },
    {
      "cell_type": "markdown",
      "source": [
        "Load rpy2"
      ],
      "metadata": {
        "id": "yxDz8IqzSs45"
      }
    },
    {
      "cell_type": "code",
      "source": [
        "%load_ext rpy2.ipython"
      ],
      "metadata": {
        "id": "gF-1A-ZNSqOm"
      },
      "execution_count": 15,
      "outputs": []
    },
    {
      "cell_type": "code",
      "source": [
        "%%R\n",
        "\n",
        "# Load required libraries and set library path\n",
        "library_path <- '/content/drive/MyDrive/R_libraries'\n",
        ".libPaths(library_path)\n",
        "\n",
        "library(reticulate, lib.loc = library_path)\n",
        "library(dplyr, lib.loc = library_path)\n",
        "library(stringr, lib.loc = library_path)\n",
        "library(readr, lib.loc = library_path)\n",
        "library(EGAnet, lib.loc = library_path)\n",
        "\n",
        "# Load psychometric items and embeddings\n",
        "items_df <- read.csv(\"psychometric_items_with_embeddings.csv\")\n",
        "\n",
        "# Load the CSV file for embeddings\n",
        "embeddings_array <- as.matrix(read.csv(\"embeddings.csv\", header = FALSE))\n",
        "\n",
        "# Inspect loaded data\n",
        "print(\"Loaded Items DataFrame:\")\n",
        "print(head(items_df))\n",
        "\n",
        "print(\"Loaded Embeddings Array Dimensions:\")\n",
        "print(dim(embeddings_array))\n"
      ],
      "metadata": {
        "colab": {
          "base_uri": "https://localhost:8080/"
        },
        "id": "G1PdHBMWSXWd",
        "outputId": "cfbbfac0-63d6-43f1-dd11-975d6fd902e8"
      },
      "execution_count": 16,
      "outputs": [
        {
          "output_type": "stream",
          "name": "stdout",
          "text": [
            "[1] \"Loaded Items DataFrame:\"\n",
            "                           construct\n",
            "1 Perfekcjonizm skierowany na siebie\n",
            "2 Perfekcjonizm skierowany na siebie\n",
            "3 Perfekcjonizm skierowany na siebie\n",
            "4 Perfekcjonizm skierowany na innych\n",
            "5 Perfekcjonizm skierowany na innych\n",
            "6 Perfekcjonizm skierowany na innych\n",
            "                                                              item item_label\n",
            "1 Czuję, że muszę być doskonały w każdej dziedzinie swojego życia.      PSS_1\n",
            "2             Często czuję się niezadowolony z własnych osiągnięć.      PSS_2\n",
            "3                       Uważam, że moje błędy są nie do przyjęcia.      PSS_3\n",
            "4            Oczekuję od innych, że będą osiągać najwyższe wyniki.      PSI_4\n",
            "5              Często krytycznie oceniam osiągnięcia innych ludzi.      PSI_5\n",
            "6      Uważam, że inni powinni dążyć do perfekcji tak samo jak ja.      PSI_6\n",
            "                                                                        embedding\n",
            "1 [ 0.05987178  0.02217619 -0.03109788 ... -0.00722302 -0.00905955\\n -0.02231405]\n",
            "2 [ 0.0336493   0.01843631 -0.02533945 ... -0.04031954 -0.04848033\\n -0.00854741]\n",
            "3 [ 0.03793628  0.03525268 -0.00496567 ...  0.00944341 -0.02461995\\n -0.01135445]\n",
            "4 [ 0.05600174  0.00649861  0.0067104  ... -0.00056013  0.00920172\\n -0.01550526]\n",
            "5 [ 0.04619238  0.01764075 -0.04017798 ... -0.03407415 -0.01048048\\n -0.00992711]\n",
            "6  [ 0.02763222  0.03467805 -0.03282803 ... -0.02544763 -0.0242274\\n -0.02139333]\n",
            "[1] \"Loaded Embeddings Array Dimensions:\"\n",
            "[1]    9 1536\n"
          ]
        }
      ]
    },
    {
      "cell_type": "code",
      "source": [
        "%%R\n",
        "\n",
        "# Compute the correlation matrix from embeddings\n",
        "cor_matrix <- cor(t(embeddings_array))\n",
        "cor_matrix[is.na(cor_matrix)] <- 0  # Replace NA values with 0\n",
        "\n",
        "# Assign item labels as row and column names\n",
        "rownames(cor_matrix) <- items_df$item_label\n",
        "colnames(cor_matrix) <- items_df$item_label\n",
        "\n",
        "# Apply Unique Variable Analysis (UVA) to identify redundant items\n",
        "uva_result <- UVA(\n",
        "    data = cor_matrix,\n",
        "    n = nrow(items_df),\n",
        "    method = \"wTO\",  # Weighted Topological Overlap\n",
        "    threshold = 0.20  # Adjust threshold as needed\n",
        ")\n",
        "\n",
        "# Print redundant items\n",
        "redundant_items <- uva_result$redundant\n",
        "print(\"Redundant Items Identified:\")\n",
        "print(redundant_items)\n",
        "\n",
        "# Filter top 6 items for each construct\n",
        "top_items <- items_df[!items_df$item_label %in% redundant_items, ] %>%\n",
        "  group_by(construct) %>%\n",
        "  slice_head(n = 6)  # Select top 6 items per construct\n",
        "print(\"Top 6 Items Per Construct:\")\n",
        "print(top_items)"
      ],
      "metadata": {
        "colab": {
          "base_uri": "https://localhost:8080/"
        },
        "collapsed": true,
        "id": "a8Fs6aqbS3fz",
        "outputId": "9602c3f3-955f-4b7c-b521-357062ec47eb"
      },
      "execution_count": 22,
      "outputs": [
        {
          "output_type": "stream",
          "name": "stdout",
          "text": [
            "[1] \"Redundant Items Identified:\"\n",
            "NULL\n",
            "[1] \"Top 6 Items Per Construct:\"\n",
            "# A tibble: 9 × 4\n",
            "# Groups:   construct [3]\n",
            "  construct                          item                   item_label embedding\n",
            "  <chr>                              <chr>                  <chr>      <chr>    \n",
            "1 Perfekcjonizm skierowany na innych Oczekuję od innych, ż… PSI_4      \"[ 0.056…\n",
            "2 Perfekcjonizm skierowany na innych Często krytycznie oce… PSI_5      \"[ 0.046…\n",
            "3 Perfekcjonizm skierowany na innych Uważam, że inni powin… PSI_6      \"[ 0.027…\n",
            "4 Perfekcjonizm skierowany na siebie Czuję, że muszę być d… PSS_1      \"[ 0.059…\n",
            "5 Perfekcjonizm skierowany na siebie Często czuję się niez… PSS_2      \"[ 0.033…\n",
            "6 Perfekcjonizm skierowany na siebie Uważam, że moje błędy… PSS_3      \"[ 0.037…\n",
            "7 Perfekcjonizm społecznie narzucony Czuję presję, aby spe… PSP_7      \"[ 0.048…\n",
            "8 Perfekcjonizm społecznie narzucony Myślę, że inni oczeku… PSP_8      \"[ 0.016…\n",
            "9 Perfekcjonizm społecznie narzucony Obawiam się, że nie b… PSP_9      \"[ 0.027…\n"
          ]
        }
      ]
    },
    {
      "cell_type": "code",
      "source": [
        "%%R\n",
        "\n",
        "# Remove redundant items from the embeddings and correlation matrix\n",
        "if (!is.null(redundant_items) && length(redundant_items) > 0) {\n",
        "    embeddings_array <- embeddings_array[!(rownames(embeddings_array) %in% redundant_items), ]\n",
        "    cor_matrix <- cor_matrix[!(rownames(cor_matrix) %in% redundant_items), !(colnames(cor_matrix) %in% redundant_items)]\n",
        "    items_df <- items_df[!(items_df$item_label %in% redundant_items), ]\n",
        "}\n",
        "\n",
        "# Recompute the correlation matrix after removing redundant items\n",
        "cor_matrix <- cor(t(embeddings_array))\n",
        "cor_matrix[is.na(cor_matrix)] <- 0  # Replace NA values with 0\n",
        "\n",
        "# Assign item labels as row and column names again\n",
        "rownames(cor_matrix) <- items_df$item_label\n",
        "colnames(cor_matrix) <- items_df$item_label\n",
        "\n",
        "# Verify alignment\n",
        "print(\"Aligned Correlation Matrix Dimensions:\")\n",
        "print(dim(cor_matrix))\n",
        "\n",
        "print(\"Correlation Matrix Row Names:\")\n",
        "print(rownames(cor_matrix)[1:5])\n",
        "\n",
        "print(\"Correlation Matrix Column Names:\")\n",
        "print(colnames(cor_matrix)[1:5])"
      ],
      "metadata": {
        "colab": {
          "base_uri": "https://localhost:8080/"
        },
        "id": "16yFaVZsTLqN",
        "outputId": "14a9dc80-d442-44ab-fc4a-a668fe92c874"
      },
      "execution_count": 20,
      "outputs": [
        {
          "output_type": "stream",
          "name": "stdout",
          "text": [
            "[1] \"Aligned Correlation Matrix Dimensions:\"\n",
            "[1] 9 9\n",
            "[1] \"Correlation Matrix Row Names:\"\n",
            "[1] \"PSS_1\" \"PSS_2\" \"PSS_3\" \"PSI_4\" \"PSI_5\"\n",
            "[1] \"Correlation Matrix Column Names:\"\n",
            "[1] \"PSS_1\" \"PSS_2\" \"PSS_3\" \"PSI_4\" \"PSI_5\"\n"
          ]
        }
      ]
    },
    {
      "cell_type": "code",
      "source": [
        "%%R\n",
        "\n",
        "# Perform EGA to detect latent constructs\n",
        "ega_result <- EGA(\n",
        "    data = cor_matrix,\n",
        "    model = \"glasso\",    # Graphical Lasso\n",
        "    algorithm = \"walktrap\",  # Community detection algorithm\n",
        "    n = nrow(items_df)   # Sample size\n",
        ")\n",
        "\n",
        "# Inspect EGA results\n",
        "print(\"EGA Communities Detected:\")\n",
        "print(ega_result$wc)  # Community memberships for each item\n",
        "\n",
        "# Plot EGA results\n",
        "plot(ega_result, layout = \"spring\")"
      ],
      "metadata": {
        "colab": {
          "base_uri": "https://localhost:8080/"
        },
        "id": "82KYSHekTdDV",
        "outputId": "38a904da-f885-4de4-f42f-ee58691e53b6"
      },
      "execution_count": 23,
      "outputs": [
        {
          "output_type": "stream",
          "name": "stdout",
          "text": [
            "[1] \"EGA Communities Detected:\"\n",
            "Algorithm:  Louvain\n",
            "\n",
            "Number of communities:  1\n",
            "\n",
            "PSS_1 PSS_2 PSS_3 PSI_4 PSI_5 PSI_6 PSP_7 PSP_8 PSP_9 \n",
            "    1     1     1     1     1     1     1     1     1 \n"
          ]
        },
        {
          "output_type": "stream",
          "name": "stderr",
          "text": [
            "WARNING:rpy2.rinterface_lib.callbacks:R[write to console]: Network is empty. No plot produced.\n",
            "\n"
          ]
        },
        {
          "output_type": "stream",
          "name": "stdout",
          "text": [
            "NULL\n"
          ]
        }
      ]
    },
    {
      "cell_type": "code",
      "source": [
        "%%R\n",
        "\n",
        "# Save EGA graph\n",
        "pdf(\"EGA_graph.pdf\")\n",
        "plot(ega_result, layout = \"spring\")\n",
        "dev.off()\n",
        "\n",
        "# Save top items to CSV\n",
        "write.csv(top_items, \"top_6_items_per_construct.csv\", row.names = FALSE)"
      ],
      "metadata": {
        "colab": {
          "base_uri": "https://localhost:8080/"
        },
        "id": "7VpZ-nkQctdX",
        "outputId": "b06f3c76-130f-4e48-d49d-e7859e02f3fd"
      },
      "execution_count": 25,
      "outputs": [
        {
          "output_type": "stream",
          "name": "stderr",
          "text": [
            "WARNING:rpy2.rinterface_lib.callbacks:R[write to console]: Network is empty. No plot produced.\n",
            "\n"
          ]
        }
      ]
    }
  ]
}